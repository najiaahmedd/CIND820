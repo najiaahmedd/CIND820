{
  "nbformat": 4,
  "nbformat_minor": 0,
  "metadata": {
    "colab": {
      "name": "Descriptive Stats",
      "provenance": [],
      "authorship_tag": "ABX9TyOpxELaNQFjrqUZBBkMkI+l",
      "include_colab_link": true
    },
    "kernelspec": {
      "name": "ir",
      "display_name": "R"
    },
    "language_info": {
      "name": "R"
    }
  },
  "cells": [
    {
      "cell_type": "markdown",
      "metadata": {
        "id": "view-in-github",
        "colab_type": "text"
      },
      "source": [
        "<a href=\"https://colab.research.google.com/github/najiaahmedd/CIND820/blob/main/Descriptive_Stats.ipynb\" target=\"_parent\"><img src=\"https://colab.research.google.com/assets/colab-badge.svg\" alt=\"Open In Colab\"/></a>"
      ]
    },
    {
      "cell_type": "code",
      "source": [
        "projectdata<-read.csv(\"projectdata.csv\")\n",
        "head(projectdata)"
      ],
      "metadata": {
        "colab": {
          "base_uri": "https://localhost:8080/",
          "height": 341
        },
        "id": "Yt3e8KID4BwB",
        "outputId": "c00a10cc-39a0-4eac-e141-e0a8262bb219"
      },
      "execution_count": 4,
      "outputs": [
        {
          "output_type": "display_data",
          "data": {
            "text/plain": [
              "  Year Seq  Glide Disaster.Group Disaster.Subgroup Disaster.Type      \n",
              "1 1900 9002       Natural        Climatological    Drought            \n",
              "2 1900 9001       Natural        Climatological    Drought            \n",
              "3 1902   12       Natural        Geophysical       Earthquake         \n",
              "4 1902    3       Natural        Geophysical       Volcanic activity  \n",
              "5 1902   10       Natural        Geophysical       Volcanic activity  \n",
              "6 1903    6       Natural        Geophysical       Mass movement (dry)\n",
              "  Disaster.Subtype Disaster.Subsubtype Event.Name  Country    ⋯ No.Affected\n",
              "1 Drought                                          Cabo Verde ⋯ NA         \n",
              "2 Drought                                          India      ⋯ NA         \n",
              "3 Ground movement                                  Guatemala  ⋯ NA         \n",
              "4 Ash fall                             Santa Maria Guatemala  ⋯ NA         \n",
              "5 Ash fall                             Santa Maria Guatemala  ⋯ NA         \n",
              "6 Rockfall                                         Canada     ⋯ NA         \n",
              "  No.Homeless Total.Affected Insured.Damages...000.US..\n",
              "1 NA          NA             NA                        \n",
              "2 NA          NA             NA                        \n",
              "3 NA          NA             NA                        \n",
              "4 NA          NA             NA                        \n",
              "5 NA          NA             NA                        \n",
              "6 NA          23             NA                        \n",
              "  Total.Damages...000.US.. CPI      Adm.Level Admin1.Code Admin2.Code\n",
              "1    NA                    3.221647                                  \n",
              "2    NA                    3.221647                                  \n",
              "3 25000                    3.350513                                  \n",
              "4    NA                    3.350513                                  \n",
              "5    NA                    3.350513                                  \n",
              "6    NA                    3.479379                                  \n",
              "  Geo.Locations\n",
              "1              \n",
              "2              \n",
              "3              \n",
              "4              \n",
              "5              \n",
              "6              "
            ],
            "text/latex": "A data.frame: 6 × 45\n\\begin{tabular}{r|lllllllllllllllllllll}\n  & Year & Seq & Glide & Disaster.Group & Disaster.Subgroup & Disaster.Type & Disaster.Subtype & Disaster.Subsubtype & Event.Name & Country & ⋯ & No.Affected & No.Homeless & Total.Affected & Insured.Damages...000.US.. & Total.Damages...000.US.. & CPI & Adm.Level & Admin1.Code & Admin2.Code & Geo.Locations\\\\\n  & <int> & <int> & <chr> & <chr> & <chr> & <chr> & <chr> & <chr> & <chr> & <chr> & ⋯ & <int> & <int> & <int> & <int> & <int> & <dbl> & <chr> & <chr> & <chr> & <chr>\\\\\n\\hline\n\t1 & 1900 & 9002 &  & Natural & Climatological & Drought             & Drought         &  &             & Cabo Verde & ⋯ & NA & NA & NA & NA &    NA & 3.221647 &  &  &  & \\\\\n\t2 & 1900 & 9001 &  & Natural & Climatological & Drought             & Drought         &  &             & India      & ⋯ & NA & NA & NA & NA &    NA & 3.221647 &  &  &  & \\\\\n\t3 & 1902 &   12 &  & Natural & Geophysical    & Earthquake          & Ground movement &  &             & Guatemala  & ⋯ & NA & NA & NA & NA & 25000 & 3.350513 &  &  &  & \\\\\n\t4 & 1902 &    3 &  & Natural & Geophysical    & Volcanic activity   & Ash fall        &  & Santa Maria & Guatemala  & ⋯ & NA & NA & NA & NA &    NA & 3.350513 &  &  &  & \\\\\n\t5 & 1902 &   10 &  & Natural & Geophysical    & Volcanic activity   & Ash fall        &  & Santa Maria & Guatemala  & ⋯ & NA & NA & NA & NA &    NA & 3.350513 &  &  &  & \\\\\n\t6 & 1903 &    6 &  & Natural & Geophysical    & Mass movement (dry) & Rockfall        &  &             & Canada     & ⋯ & NA & NA & 23 & NA &    NA & 3.479379 &  &  &  & \\\\\n\\end{tabular}\n",
            "text/markdown": "\nA data.frame: 6 × 45\n\n| <!--/--> | Year &lt;int&gt; | Seq &lt;int&gt; | Glide &lt;chr&gt; | Disaster.Group &lt;chr&gt; | Disaster.Subgroup &lt;chr&gt; | Disaster.Type &lt;chr&gt; | Disaster.Subtype &lt;chr&gt; | Disaster.Subsubtype &lt;chr&gt; | Event.Name &lt;chr&gt; | Country &lt;chr&gt; | ⋯ ⋯ | No.Affected &lt;int&gt; | No.Homeless &lt;int&gt; | Total.Affected &lt;int&gt; | Insured.Damages...000.US.. &lt;int&gt; | Total.Damages...000.US.. &lt;int&gt; | CPI &lt;dbl&gt; | Adm.Level &lt;chr&gt; | Admin1.Code &lt;chr&gt; | Admin2.Code &lt;chr&gt; | Geo.Locations &lt;chr&gt; |\n|---|---|---|---|---|---|---|---|---|---|---|---|---|---|---|---|---|---|---|---|---|---|\n| 1 | 1900 | 9002 | <!----> | Natural | Climatological | Drought             | Drought         | <!----> | <!----> | Cabo Verde | ⋯ | NA | NA | NA | NA |    NA | 3.221647 | <!----> | <!----> | <!----> | <!----> |\n| 2 | 1900 | 9001 | <!----> | Natural | Climatological | Drought             | Drought         | <!----> | <!----> | India      | ⋯ | NA | NA | NA | NA |    NA | 3.221647 | <!----> | <!----> | <!----> | <!----> |\n| 3 | 1902 |   12 | <!----> | Natural | Geophysical    | Earthquake          | Ground movement | <!----> | <!----> | Guatemala  | ⋯ | NA | NA | NA | NA | 25000 | 3.350513 | <!----> | <!----> | <!----> | <!----> |\n| 4 | 1902 |    3 | <!----> | Natural | Geophysical    | Volcanic activity   | Ash fall        | <!----> | Santa Maria | Guatemala  | ⋯ | NA | NA | NA | NA |    NA | 3.350513 | <!----> | <!----> | <!----> | <!----> |\n| 5 | 1902 |   10 | <!----> | Natural | Geophysical    | Volcanic activity   | Ash fall        | <!----> | Santa Maria | Guatemala  | ⋯ | NA | NA | NA | NA |    NA | 3.350513 | <!----> | <!----> | <!----> | <!----> |\n| 6 | 1903 |    6 | <!----> | Natural | Geophysical    | Mass movement (dry) | Rockfall        | <!----> | <!----> | Canada     | ⋯ | NA | NA | 23 | NA |    NA | 3.479379 | <!----> | <!----> | <!----> | <!----> |\n\n",
            "text/html": [
              "<table class=\"dataframe\">\n",
              "<caption>A data.frame: 6 × 45</caption>\n",
              "<thead>\n",
              "\t<tr><th></th><th scope=col>Year</th><th scope=col>Seq</th><th scope=col>Glide</th><th scope=col>Disaster.Group</th><th scope=col>Disaster.Subgroup</th><th scope=col>Disaster.Type</th><th scope=col>Disaster.Subtype</th><th scope=col>Disaster.Subsubtype</th><th scope=col>Event.Name</th><th scope=col>Country</th><th scope=col>⋯</th><th scope=col>No.Affected</th><th scope=col>No.Homeless</th><th scope=col>Total.Affected</th><th scope=col>Insured.Damages...000.US..</th><th scope=col>Total.Damages...000.US..</th><th scope=col>CPI</th><th scope=col>Adm.Level</th><th scope=col>Admin1.Code</th><th scope=col>Admin2.Code</th><th scope=col>Geo.Locations</th></tr>\n",
              "\t<tr><th></th><th scope=col>&lt;int&gt;</th><th scope=col>&lt;int&gt;</th><th scope=col>&lt;chr&gt;</th><th scope=col>&lt;chr&gt;</th><th scope=col>&lt;chr&gt;</th><th scope=col>&lt;chr&gt;</th><th scope=col>&lt;chr&gt;</th><th scope=col>&lt;chr&gt;</th><th scope=col>&lt;chr&gt;</th><th scope=col>&lt;chr&gt;</th><th scope=col>⋯</th><th scope=col>&lt;int&gt;</th><th scope=col>&lt;int&gt;</th><th scope=col>&lt;int&gt;</th><th scope=col>&lt;int&gt;</th><th scope=col>&lt;int&gt;</th><th scope=col>&lt;dbl&gt;</th><th scope=col>&lt;chr&gt;</th><th scope=col>&lt;chr&gt;</th><th scope=col>&lt;chr&gt;</th><th scope=col>&lt;chr&gt;</th></tr>\n",
              "</thead>\n",
              "<tbody>\n",
              "\t<tr><th scope=row>1</th><td>1900</td><td>9002</td><td></td><td>Natural</td><td>Climatological</td><td>Drought            </td><td>Drought        </td><td></td><td>           </td><td>Cabo Verde</td><td>⋯</td><td>NA</td><td>NA</td><td>NA</td><td>NA</td><td>   NA</td><td>3.221647</td><td></td><td></td><td></td><td></td></tr>\n",
              "\t<tr><th scope=row>2</th><td>1900</td><td>9001</td><td></td><td>Natural</td><td>Climatological</td><td>Drought            </td><td>Drought        </td><td></td><td>           </td><td>India     </td><td>⋯</td><td>NA</td><td>NA</td><td>NA</td><td>NA</td><td>   NA</td><td>3.221647</td><td></td><td></td><td></td><td></td></tr>\n",
              "\t<tr><th scope=row>3</th><td>1902</td><td>  12</td><td></td><td>Natural</td><td>Geophysical   </td><td>Earthquake         </td><td>Ground movement</td><td></td><td>           </td><td>Guatemala </td><td>⋯</td><td>NA</td><td>NA</td><td>NA</td><td>NA</td><td>25000</td><td>3.350513</td><td></td><td></td><td></td><td></td></tr>\n",
              "\t<tr><th scope=row>4</th><td>1902</td><td>   3</td><td></td><td>Natural</td><td>Geophysical   </td><td>Volcanic activity  </td><td>Ash fall       </td><td></td><td>Santa Maria</td><td>Guatemala </td><td>⋯</td><td>NA</td><td>NA</td><td>NA</td><td>NA</td><td>   NA</td><td>3.350513</td><td></td><td></td><td></td><td></td></tr>\n",
              "\t<tr><th scope=row>5</th><td>1902</td><td>  10</td><td></td><td>Natural</td><td>Geophysical   </td><td>Volcanic activity  </td><td>Ash fall       </td><td></td><td>Santa Maria</td><td>Guatemala </td><td>⋯</td><td>NA</td><td>NA</td><td>NA</td><td>NA</td><td>   NA</td><td>3.350513</td><td></td><td></td><td></td><td></td></tr>\n",
              "\t<tr><th scope=row>6</th><td>1903</td><td>   6</td><td></td><td>Natural</td><td>Geophysical   </td><td>Mass movement (dry)</td><td>Rockfall       </td><td></td><td>           </td><td>Canada    </td><td>⋯</td><td>NA</td><td>NA</td><td>23</td><td>NA</td><td>   NA</td><td>3.479379</td><td></td><td></td><td></td><td></td></tr>\n",
              "</tbody>\n",
              "</table>\n"
            ]
          },
          "metadata": {}
        }
      ]
    },
    {
      "cell_type": "code",
      "source": [
        "str(projectdata)"
      ],
      "metadata": {
        "colab": {
          "base_uri": "https://localhost:8080/"
        },
        "id": "hJKsIFaQ4Qiz",
        "outputId": "0c766b73-4dab-47e3-f1e1-d9051b678ab9"
      },
      "execution_count": 5,
      "outputs": [
        {
          "output_type": "stream",
          "name": "stdout",
          "text": [
            "'data.frame':\t16126 obs. of  45 variables:\n",
            " $ Year                      : int  1900 1900 1902 1902 1902 1903 1903 1904 1905 1905 ...\n",
            " $ Seq                       : int  9002 9001 12 3 10 6 12 3 5 3 ...\n",
            " $ Glide                     : chr  \"\" \"\" \"\" \"\" ...\n",
            " $ Disaster.Group            : chr  \"Natural\" \"Natural\" \"Natural\" \"Natural\" ...\n",
            " $ Disaster.Subgroup         : chr  \"Climatological\" \"Climatological\" \"Geophysical\" \"Geophysical\" ...\n",
            " $ Disaster.Type             : chr  \"Drought\" \"Drought\" \"Earthquake\" \"Volcanic activity\" ...\n",
            " $ Disaster.Subtype          : chr  \"Drought\" \"Drought\" \"Ground movement\" \"Ash fall\" ...\n",
            " $ Disaster.Subsubtype       : chr  \"\" \"\" \"\" \"\" ...\n",
            " $ Event.Name                : chr  \"\" \"\" \"\" \"Santa Maria\" ...\n",
            " $ Country                   : chr  \"Cabo Verde\" \"India\" \"Guatemala\" \"Guatemala\" ...\n",
            " $ ISO                       : chr  \"CPV\" \"IND\" \"GTM\" \"GTM\" ...\n",
            " $ Region                    : chr  \"Western Africa\" \"Southern Asia\" \"Central America\" \"Central America\" ...\n",
            " $ Continent                 : chr  \"Africa\" \"Asia\" \"Americas\" \"Americas\" ...\n",
            " $ Location                  : chr  \"Countrywide\" \"Bengal\" \"Quezaltenango, San Marcos\" \"\" ...\n",
            " $ Origin                    : chr  \"\" \"\" \"\" \"\" ...\n",
            " $ Associated.Dis            : chr  \"Famine\" \"\" \"Tsunami/Tidal wave\" \"\" ...\n",
            " $ Associated.Dis2           : chr  \"\" \"\" \"\" \"\" ...\n",
            " $ OFDA.Response             : chr  \"\" \"\" \"\" \"\" ...\n",
            " $ Appeal                    : chr  \"No\" \"No\" \"\" \"\" ...\n",
            " $ Declaration               : chr  \"No\" \"No\" \"\" \"\" ...\n",
            " $ Aid.Contribution          : int  NA NA NA NA NA NA NA NA NA NA ...\n",
            " $ Dis.Mag.Value             : int  NA NA 8 NA NA NA NA NA NA 8 ...\n",
            " $ Dis.Mag.Scale             : chr  \"Km2\" \"Km2\" \"Richter\" \"\" ...\n",
            " $ Latitude                  : chr  \"\" \"\" \"14\" \"\" ...\n",
            " $ Longitude                 : chr  \"\" \"\" \"-91\" \"\" ...\n",
            " $ Local.Time                : chr  \"\" \"\" \"20:20\" \"\" ...\n",
            " $ River.Basin               : chr  \"\" \"\" \"\" \"\" ...\n",
            " $ Start.Year                : int  1900 1900 1902 1902 1902 1903 1903 1904 1905 1905 ...\n",
            " $ Start.Month               : int  NA NA 4 4 10 4 NA 11 8 4 ...\n",
            " $ Start.Day                 : int  NA NA 18 8 24 29 NA NA 13 4 ...\n",
            " $ End.Year                  : int  1900 1900 1902 1902 1902 1903 1903 1904 1905 1905 ...\n",
            " $ End.Month                 : int  NA NA 4 4 10 4 NA 11 8 4 ...\n",
            " $ End.Day                   : int  NA NA 18 8 24 29 NA NA 13 4 ...\n",
            " $ Total.Deaths              : int  11000 1250000 2000 1000 6000 76 17 NA 18 20000 ...\n",
            " $ No.Injured                : int  NA NA NA NA NA 23 NA NA 18 NA ...\n",
            " $ No.Affected               : int  NA NA NA NA NA NA NA NA NA NA ...\n",
            " $ No.Homeless               : int  NA NA NA NA NA NA NA NA NA NA ...\n",
            " $ Total.Affected            : int  NA NA NA NA NA 23 NA NA 18 NA ...\n",
            " $ Insured.Damages...000.US..: int  NA NA NA NA NA NA NA NA NA NA ...\n",
            " $ Total.Damages...000.US..  : int  NA NA 25000 NA NA NA NA NA NA 25000 ...\n",
            " $ CPI                       : num  3.22 3.22 3.35 3.35 3.35 ...\n",
            " $ Adm.Level                 : chr  \"\" \"\" \"\" \"\" ...\n",
            " $ Admin1.Code               : chr  \"\" \"\" \"\" \"\" ...\n",
            " $ Admin2.Code               : chr  \"\" \"\" \"\" \"\" ...\n",
            " $ Geo.Locations             : chr  \"\" \"\" \"\" \"\" ...\n"
          ]
        }
      ]
    },
    {
      "cell_type": "code",
      "source": [
        "data1 <- na.omit(projectdata)\n",
        "str(data1)"
      ],
      "metadata": {
        "colab": {
          "base_uri": "https://localhost:8080/"
        },
        "id": "GPUMMUU04W7J",
        "outputId": "8d6e9e5a-28c4-4ebb-c5b0-561b95bb35eb"
      },
      "execution_count": 6,
      "outputs": [
        {
          "output_type": "stream",
          "name": "stdout",
          "text": [
            "'data.frame':\t14 obs. of  45 variables:\n",
            " $ Year                      : int  1992 1997 1998 1995 1997 1997 1999 1999 2001 1999 ...\n",
            " $ Seq                       : int  22 179 165 16 142 267 16 391 33 268 ...\n",
            " $ Glide                     : chr  \"\" \"\" \"\" \"\" ...\n",
            " $ Disaster.Group            : chr  \"Natural\" \"Natural\" \"Natural\" \"Natural\" ...\n",
            " $ Disaster.Subgroup         : chr  \"Geophysical\" \"Meteorological\" \"Hydrological\" \"Geophysical\" ...\n",
            " $ Disaster.Type             : chr  \"Earthquake\" \"Storm\" \"Flood\" \"Earthquake\" ...\n",
            " $ Disaster.Subtype          : chr  \"Ground movement\" \"Tropical cyclone\" \"Riverine flood\" \"Ground movement\" ...\n",
            " $ Disaster.Subsubtype       : chr  \"\" \"\" \"\" \"\" ...\n",
            " $ Event.Name                : chr  \"\" \"Winnie\" \"\" \"\" ...\n",
            " $ Country                   : chr  \"Turkey\" \"China\" \"China\" \"Japan\" ...\n",
            " $ ISO                       : chr  \"TUR\" \"CHN\" \"CHN\" \"JPN\" ...\n",
            " $ Region                    : chr  \"Western Asia\" \"Eastern Asia\" \"Eastern Asia\" \"Eastern Asia\" ...\n",
            " $ Continent                 : chr  \"Asia\" \"Asia\" \"Asia\" \"Asia\" ...\n",
            " $ Location                  : chr  \"Erzican province\" \"Zhejiang, Anhui provinces\" \"Hubei, Hunan, Sichuan, Jiangxi, Fujian, Guanxi Provinces\" \"Kobe, Osaka, Hyigo, Kyoto prefecture\" ...\n",
            " $ Origin                    : chr  \"\" \"\" \"Heavy rains\" \"\" ...\n",
            " $ Associated.Dis            : chr  \"Slide (land, mud, snow, rock)\" \"Flood\" \"Broken Dam/Burst bank\" \"Fire\" ...\n",
            " $ Associated.Dis2           : chr  \"\" \"\" \"\" \"\" ...\n",
            " $ OFDA.Response             : chr  \"Yes\" \"\" \"Yes\" \"\" ...\n",
            " $ Appeal                    : chr  \"No\" \"No\" \"No\" \"No\" ...\n",
            " $ Declaration               : chr  \"No\" \"No\" \"No\" \"No\" ...\n",
            " $ Aid.Contribution          : int  11213 253 131738 13557 5046 10473 32129 1583 118929 116413 ...\n",
            " $ Dis.Mag.Value             : int  7 180 250000 7 34990 102 6 200 8 8 ...\n",
            " $ Dis.Mag.Scale             : chr  \"Richter\" \"Kph\" \"Km2\" \"Richter\" ...\n",
            " $ Latitude                  : chr  \"39.710 N\" \"\" \"\" \"34.58 N\" ...\n",
            " $ Longitude                 : chr  \"39.605 E\" \"\" \"\" \"135.0 E \" ...\n",
            " $ Local.Time                : chr  \"20:19\" \"\" \"\" \"05:46\" ...\n",
            " $ River.Basin               : chr  \"\" \"\" \"Yang-Tsé Kiang\" \"\" ...\n",
            " $ Start.Year                : int  1992 1997 1998 1995 1997 1997 1999 1999 2001 1999 ...\n",
            " $ Start.Month               : int  3 8 7 1 7 11 1 9 1 8 ...\n",
            " $ Start.Day                 : int  13 15 1 17 2 2 25 12 26 17 ...\n",
            " $ End.Year                  : int  1992 1997 1998 1995 1997 1997 1999 1999 2001 1999 ...\n",
            " $ End.Month                 : int  3 8 8 1 7 11 1 10 1 8 ...\n",
            " $ End.Day                   : int  13 21 30 17 24 4 25 29 26 17 ...\n",
            " $ Total.Deaths              : int  653 140 3656 5297 29 3682 1186 636 20005 17127 ...\n",
            " $ No.Injured                : int  3850 3000 123000 34492 2409 857 8563 60 166812 43953 ...\n",
            " $ No.Affected               : int  250000 790000 223000000 255843 87725 697225 745000 530000 4365000 715000 ...\n",
            " $ No.Homeless               : int  95000 44000 15850000 251301 11973 383045 452370 86000 1790000 600000 ...\n",
            " $ Total.Affected            : int  348850 837000 238973000 541636 102107 1081127 1205933 616060 6321812 1358953 ...\n",
            " $ Insured.Damages...000.US..: int  10800 15000 301200 3000000 310000 5000 100000 55000 100000 2000000 ...\n",
            " $ Total.Damages...000.US..  : int  750000 2700000 30000000 100000000 1850000 470000 1857366 451300 2623000 20000000 ...\n",
            " $ CPI                       : num  54.2 62 63 58.9 62 ...\n",
            " $ Adm.Level                 : chr  \"\" \"\" \"\" \"\" ...\n",
            " $ Admin1.Code               : chr  \"\" \"\" \"\" \"\" ...\n",
            " $ Admin2.Code               : chr  \"\" \"\" \"\" \"\" ...\n",
            " $ Geo.Locations             : chr  \"\" \"\" \"\" \"\" ...\n",
            " - attr(*, \"na.action\")= 'omit' Named int [1:16112] 1 2 3 4 5 6 7 8 9 10 ...\n",
            "  ..- attr(*, \"names\")= chr [1:16112] \"1\" \"2\" \"3\" \"4\" ...\n"
          ]
        }
      ]
    },
    {
      "cell_type": "code",
      "source": [
        "data2<-read.csv(\"projectfiles.csv\")\n",
        "head(data2)"
      ],
      "metadata": {
        "colab": {
          "base_uri": "https://localhost:8080/",
          "height": 515
        },
        "id": "3JeLH4bGqR_q",
        "outputId": "017a7347-305c-455e-b6ad-620304d10604"
      },
      "execution_count": 2,
      "outputs": [
        {
          "output_type": "display_data",
          "data": {
            "text/plain": [
              "  Dis.No        Year Seq Glide Disaster.Group Disaster.Subgroup Disaster.Type\n",
              "1 1970-0013-ARG 1970  13       Natural        Hydrological      Flood        \n",
              "2 1970-0109-AUS 1970 109       Natural        Meteorological    Storm        \n",
              "3 1970-0044-BEN 1970  44       Natural        Hydrological      Flood        \n",
              "4 1970-0063-BGD 1970  63       Natural        Meteorological    Storm        \n",
              "5 1970-0026-BGD 1970  26       Natural        Meteorological    Storm        \n",
              "6 1970-0035-BGD 1970  35       Natural        Hydrological      Flood        \n",
              "  Disaster.Subtype Disaster.Subsubtype Event.Name ⋯ No.Homeless Total.Affected\n",
              "1                                                 ⋯ NA                NA      \n",
              "2 Tropical cyclone                     Ada        ⋯ NA                NA      \n",
              "3                                                 ⋯ NA                NA      \n",
              "4 Tropical cyclone                                ⋯ NA           3648000      \n",
              "5                                                 ⋯ NA               110      \n",
              "6                                                 ⋯ NA          10000000      \n",
              "  Reconstruction.Costs...000.US.. Insured.Damages...000.US..\n",
              "1 NA                              NA                        \n",
              "2 NA                              NA                        \n",
              "3 NA                              NA                        \n",
              "4 NA                              NA                        \n",
              "5 NA                              NA                        \n",
              "6 NA                              NA                        \n",
              "  Total.Damages...000.US.. CPI      Adm.Level Admin1.Code Admin2.Code\n",
              "1 25000                    15.00128                                  \n",
              "2 72475                    15.00128                                  \n",
              "3   200                    15.00128                                  \n",
              "4 86400                    15.00128                                  \n",
              "5    NA                    15.00128                                  \n",
              "6 25000                    15.00128                                  \n",
              "  Geo.Locations\n",
              "1              \n",
              "2              \n",
              "3              \n",
              "4              \n",
              "5              \n",
              "6              "
            ],
            "text/latex": "A data.frame: 6 × 47\n\\begin{tabular}{r|lllllllllllllllllllll}\n  & Dis.No & Year & Seq & Glide & Disaster.Group & Disaster.Subgroup & Disaster.Type & Disaster.Subtype & Disaster.Subsubtype & Event.Name & ⋯ & No.Homeless & Total.Affected & Reconstruction.Costs...000.US.. & Insured.Damages...000.US.. & Total.Damages...000.US.. & CPI & Adm.Level & Admin1.Code & Admin2.Code & Geo.Locations\\\\\n  & <chr> & <int> & <int> & <chr> & <chr> & <chr> & <chr> & <chr> & <chr> & <chr> & ⋯ & <int> & <int> & <int> & <int> & <int> & <dbl> & <chr> & <chr> & <chr> & <chr>\\\\\n\\hline\n\t1 & 1970-0013-ARG & 1970 &  13 &  & Natural & Hydrological   & Flood &                  &  &     & ⋯ & NA &       NA & NA & NA & 25000 & 15.00128 &  &  &  & \\\\\n\t2 & 1970-0109-AUS & 1970 & 109 &  & Natural & Meteorological & Storm & Tropical cyclone &  & Ada & ⋯ & NA &       NA & NA & NA & 72475 & 15.00128 &  &  &  & \\\\\n\t3 & 1970-0044-BEN & 1970 &  44 &  & Natural & Hydrological   & Flood &                  &  &     & ⋯ & NA &       NA & NA & NA &   200 & 15.00128 &  &  &  & \\\\\n\t4 & 1970-0063-BGD & 1970 &  63 &  & Natural & Meteorological & Storm & Tropical cyclone &  &     & ⋯ & NA &  3648000 & NA & NA & 86400 & 15.00128 &  &  &  & \\\\\n\t5 & 1970-0026-BGD & 1970 &  26 &  & Natural & Meteorological & Storm &                  &  &     & ⋯ & NA &      110 & NA & NA &    NA & 15.00128 &  &  &  & \\\\\n\t6 & 1970-0035-BGD & 1970 &  35 &  & Natural & Hydrological   & Flood &                  &  &     & ⋯ & NA & 10000000 & NA & NA & 25000 & 15.00128 &  &  &  & \\\\\n\\end{tabular}\n",
            "text/markdown": "\nA data.frame: 6 × 47\n\n| <!--/--> | Dis.No &lt;chr&gt; | Year &lt;int&gt; | Seq &lt;int&gt; | Glide &lt;chr&gt; | Disaster.Group &lt;chr&gt; | Disaster.Subgroup &lt;chr&gt; | Disaster.Type &lt;chr&gt; | Disaster.Subtype &lt;chr&gt; | Disaster.Subsubtype &lt;chr&gt; | Event.Name &lt;chr&gt; | ⋯ ⋯ | No.Homeless &lt;int&gt; | Total.Affected &lt;int&gt; | Reconstruction.Costs...000.US.. &lt;int&gt; | Insured.Damages...000.US.. &lt;int&gt; | Total.Damages...000.US.. &lt;int&gt; | CPI &lt;dbl&gt; | Adm.Level &lt;chr&gt; | Admin1.Code &lt;chr&gt; | Admin2.Code &lt;chr&gt; | Geo.Locations &lt;chr&gt; |\n|---|---|---|---|---|---|---|---|---|---|---|---|---|---|---|---|---|---|---|---|---|---|\n| 1 | 1970-0013-ARG | 1970 |  13 | <!----> | Natural | Hydrological   | Flood | <!----> | <!----> | <!----> | ⋯ | NA |       NA | NA | NA | 25000 | 15.00128 | <!----> | <!----> | <!----> | <!----> |\n| 2 | 1970-0109-AUS | 1970 | 109 | <!----> | Natural | Meteorological | Storm | Tropical cyclone | <!----> | Ada | ⋯ | NA |       NA | NA | NA | 72475 | 15.00128 | <!----> | <!----> | <!----> | <!----> |\n| 3 | 1970-0044-BEN | 1970 |  44 | <!----> | Natural | Hydrological   | Flood | <!----> | <!----> | <!----> | ⋯ | NA |       NA | NA | NA |   200 | 15.00128 | <!----> | <!----> | <!----> | <!----> |\n| 4 | 1970-0063-BGD | 1970 |  63 | <!----> | Natural | Meteorological | Storm | Tropical cyclone | <!----> | <!----> | ⋯ | NA |  3648000 | NA | NA | 86400 | 15.00128 | <!----> | <!----> | <!----> | <!----> |\n| 5 | 1970-0026-BGD | 1970 |  26 | <!----> | Natural | Meteorological | Storm | <!----> | <!----> | <!----> | ⋯ | NA |      110 | NA | NA |    NA | 15.00128 | <!----> | <!----> | <!----> | <!----> |\n| 6 | 1970-0035-BGD | 1970 |  35 | <!----> | Natural | Hydrological   | Flood | <!----> | <!----> | <!----> | ⋯ | NA | 10000000 | NA | NA | 25000 | 15.00128 | <!----> | <!----> | <!----> | <!----> |\n\n",
            "text/html": [
              "<table class=\"dataframe\">\n",
              "<caption>A data.frame: 6 × 47</caption>\n",
              "<thead>\n",
              "\t<tr><th></th><th scope=col>Dis.No</th><th scope=col>Year</th><th scope=col>Seq</th><th scope=col>Glide</th><th scope=col>Disaster.Group</th><th scope=col>Disaster.Subgroup</th><th scope=col>Disaster.Type</th><th scope=col>Disaster.Subtype</th><th scope=col>Disaster.Subsubtype</th><th scope=col>Event.Name</th><th scope=col>⋯</th><th scope=col>No.Homeless</th><th scope=col>Total.Affected</th><th scope=col>Reconstruction.Costs...000.US..</th><th scope=col>Insured.Damages...000.US..</th><th scope=col>Total.Damages...000.US..</th><th scope=col>CPI</th><th scope=col>Adm.Level</th><th scope=col>Admin1.Code</th><th scope=col>Admin2.Code</th><th scope=col>Geo.Locations</th></tr>\n",
              "\t<tr><th></th><th scope=col>&lt;chr&gt;</th><th scope=col>&lt;int&gt;</th><th scope=col>&lt;int&gt;</th><th scope=col>&lt;chr&gt;</th><th scope=col>&lt;chr&gt;</th><th scope=col>&lt;chr&gt;</th><th scope=col>&lt;chr&gt;</th><th scope=col>&lt;chr&gt;</th><th scope=col>&lt;chr&gt;</th><th scope=col>&lt;chr&gt;</th><th scope=col>⋯</th><th scope=col>&lt;int&gt;</th><th scope=col>&lt;int&gt;</th><th scope=col>&lt;int&gt;</th><th scope=col>&lt;int&gt;</th><th scope=col>&lt;int&gt;</th><th scope=col>&lt;dbl&gt;</th><th scope=col>&lt;chr&gt;</th><th scope=col>&lt;chr&gt;</th><th scope=col>&lt;chr&gt;</th><th scope=col>&lt;chr&gt;</th></tr>\n",
              "</thead>\n",
              "<tbody>\n",
              "\t<tr><th scope=row>1</th><td>1970-0013-ARG</td><td>1970</td><td> 13</td><td></td><td>Natural</td><td>Hydrological  </td><td>Flood</td><td>                </td><td></td><td>   </td><td>⋯</td><td>NA</td><td>      NA</td><td>NA</td><td>NA</td><td>25000</td><td>15.00128</td><td></td><td></td><td></td><td></td></tr>\n",
              "\t<tr><th scope=row>2</th><td>1970-0109-AUS</td><td>1970</td><td>109</td><td></td><td>Natural</td><td>Meteorological</td><td>Storm</td><td>Tropical cyclone</td><td></td><td>Ada</td><td>⋯</td><td>NA</td><td>      NA</td><td>NA</td><td>NA</td><td>72475</td><td>15.00128</td><td></td><td></td><td></td><td></td></tr>\n",
              "\t<tr><th scope=row>3</th><td>1970-0044-BEN</td><td>1970</td><td> 44</td><td></td><td>Natural</td><td>Hydrological  </td><td>Flood</td><td>                </td><td></td><td>   </td><td>⋯</td><td>NA</td><td>      NA</td><td>NA</td><td>NA</td><td>  200</td><td>15.00128</td><td></td><td></td><td></td><td></td></tr>\n",
              "\t<tr><th scope=row>4</th><td>1970-0063-BGD</td><td>1970</td><td> 63</td><td></td><td>Natural</td><td>Meteorological</td><td>Storm</td><td>Tropical cyclone</td><td></td><td>   </td><td>⋯</td><td>NA</td><td> 3648000</td><td>NA</td><td>NA</td><td>86400</td><td>15.00128</td><td></td><td></td><td></td><td></td></tr>\n",
              "\t<tr><th scope=row>5</th><td>1970-0026-BGD</td><td>1970</td><td> 26</td><td></td><td>Natural</td><td>Meteorological</td><td>Storm</td><td>                </td><td></td><td>   </td><td>⋯</td><td>NA</td><td>     110</td><td>NA</td><td>NA</td><td>   NA</td><td>15.00128</td><td></td><td></td><td></td><td></td></tr>\n",
              "\t<tr><th scope=row>6</th><td>1970-0035-BGD</td><td>1970</td><td> 35</td><td></td><td>Natural</td><td>Hydrological  </td><td>Flood</td><td>                </td><td></td><td>   </td><td>⋯</td><td>NA</td><td>10000000</td><td>NA</td><td>NA</td><td>25000</td><td>15.00128</td><td></td><td></td><td></td><td></td></tr>\n",
              "</tbody>\n",
              "</table>\n"
            ]
          },
          "metadata": {}
        }
      ]
    },
    {
      "cell_type": "code",
      "source": [
        "str(data2)"
      ],
      "metadata": {
        "colab": {
          "base_uri": "https://localhost:8080/"
        },
        "id": "a9OY_Pytqffc",
        "outputId": "4bb2287d-1043-46c6-efb4-d59fd2b6f3ba"
      },
      "execution_count": 3,
      "outputs": [
        {
          "output_type": "stream",
          "name": "stdout",
          "text": [
            "'data.frame':\t14644 obs. of  47 variables:\n",
            " $ Dis.No                         : chr  \"1970-0013-ARG\" \"1970-0109-AUS\" \"1970-0044-BEN\" \"1970-0063-BGD\" ...\n",
            " $ Year                           : int  1970 1970 1970 1970 1970 1970 1970 1970 1970 1970 ...\n",
            " $ Seq                            : int  13 109 44 63 26 35 58 9005 37 54 ...\n",
            " $ Glide                          : chr  \"\" \"\" \"\" \"\" ...\n",
            " $ Disaster.Group                 : chr  \"Natural\" \"Natural\" \"Natural\" \"Natural\" ...\n",
            " $ Disaster.Subgroup              : chr  \"Hydrological\" \"Meteorological\" \"Hydrological\" \"Meteorological\" ...\n",
            " $ Disaster.Type                  : chr  \"Flood\" \"Storm\" \"Flood\" \"Storm\" ...\n",
            " $ Disaster.Subtype               : chr  \"\" \"Tropical cyclone\" \"\" \"Tropical cyclone\" ...\n",
            " $ Disaster.Subsubtype            : chr  \"\" \"\" \"\" \"\" ...\n",
            " $ Event.Name                     : chr  \"\" \"Ada\" \"\" \"\" ...\n",
            " $ Country                        : chr  \"Argentina\" \"Australia\" \"Benin\" \"Bangladesh\" ...\n",
            " $ ISO                            : chr  \"ARG\" \"AUS\" \"BEN\" \"BGD\" ...\n",
            " $ Region                         : chr  \"South America\" \"Australia and New Zealand\" \"Western Africa\" \"Southern Asia\" ...\n",
            " $ Continent                      : chr  \"Americas\" \"Oceania\" \"Africa\" \"Asia\" ...\n",
            " $ Location                       : chr  \"Mendoza\" \"Queensland\" \"Atacora region\" \"Khulna, Chittagong\" ...\n",
            " $ Origin                         : chr  \"\" \"\" \"\" \"\" ...\n",
            " $ Associated.Dis                 : chr  \"\" \"\" \"\" \"\" ...\n",
            " $ Associated.Dis2                : chr  \"\" \"\" \"\" \"\" ...\n",
            " $ OFDA.Response                  : chr  \"\" \"\" \"Yes\" \"Yes\" ...\n",
            " $ Appeal                         : chr  \"\" \"\" \"\" \"\" ...\n",
            " $ Declaration                    : chr  \"\" \"\" \"\" \"\" ...\n",
            " $ Aid.Contribution               : int  NA NA NA NA NA NA NA NA NA NA ...\n",
            " $ Dis.Mag.Value                  : int  NA NA NA NA NA NA NA NA NA NA ...\n",
            " $ Dis.Mag.Scale                  : chr  \"Km2\" \"Kph\" \"Km2\" \"Kph\" ...\n",
            " $ Latitude                       : chr  \"\" \"\" \"\" \"\" ...\n",
            " $ Longitude                      : chr  \"\" \"\" \"\" \"\" ...\n",
            " $ Local.Time                     : chr  \"\" \"\" \"\" \"\" ...\n",
            " $ River.Basin                    : chr  \"\" \"\" \"\" \"\" ...\n",
            " $ Start.Year                     : int  1970 1970 1970 1970 1970 1970 1970 1970 1970 1970 ...\n",
            " $ Start.Month                    : int  1 1 9 11 4 7 10 8 7 10 ...\n",
            " $ Start.Day                      : int  4 NA NA 12 13 NA 23 NA 21 2 ...\n",
            " $ End.Year                       : int  1970 1970 1970 1970 1970 1970 1970 1970 1970 1970 ...\n",
            " $ End.Month                      : int  1 1 9 11 4 7 10 NA 7 10 ...\n",
            " $ End.Day                        : int  4 NA NA 12 13 NA 23 NA 21 2 ...\n",
            " $ Total.Deaths                   : int  36 13 NA 300000 17 NA 300 NA 172 3 ...\n",
            " $ No.Injured                     : int  NA NA NA NA NA NA NA NA NA 10 ...\n",
            " $ No.Affected                    : int  NA NA NA 3648000 110 10000000 NA 10000000 104371 200 ...\n",
            " $ No.Homeless                    : int  NA NA NA NA NA NA NA NA NA NA ...\n",
            " $ Total.Affected                 : int  NA NA NA 3648000 110 10000000 NA 10000000 104371 210 ...\n",
            " $ Reconstruction.Costs...000.US..: int  NA NA NA NA NA NA NA NA NA NA ...\n",
            " $ Insured.Damages...000.US..     : int  NA NA NA NA NA NA NA NA NA NA ...\n",
            " $ Total.Damages...000.US..       : int  25000 72475 200 86400 NA 25000 NA 100 46000 500 ...\n",
            " $ CPI                            : num  15 15 15 15 15 ...\n",
            " $ Adm.Level                      : chr  \"\" \"\" \"\" \"\" ...\n",
            " $ Admin1.Code                    : chr  \"\" \"\" \"\" \"\" ...\n",
            " $ Admin2.Code                    : chr  \"\" \"\" \"\" \"\" ...\n",
            " $ Geo.Locations                  : chr  \"\" \"\" \"\" \"\" ...\n"
          ]
        }
      ]
    },
    {
      "cell_type": "code",
      "source": [
        ""
      ],
      "metadata": {
        "colab": {
          "base_uri": "https://localhost:8080/"
        },
        "id": "cm8TqlNSqlUf",
        "outputId": "7e5a668c-ae4d-4e61-c64b-c8a79cfc0c9c"
      },
      "execution_count": 4,
      "outputs": [
        {
          "output_type": "stream",
          "name": "stdout",
          "text": [
            "'data.frame':\t1 obs. of  47 variables:\n",
            " $ Dis.No                         : chr \"1999-0268-TUR\"\n",
            " $ Year                           : int 1999\n",
            " $ Seq                            : int 268\n",
            " $ Glide                          : chr \"\"\n",
            " $ Disaster.Group                 : chr \"Natural\"\n",
            " $ Disaster.Subgroup              : chr \"Geophysical\"\n",
            " $ Disaster.Type                  : chr \"Earthquake\"\n",
            " $ Disaster.Subtype               : chr \"Ground movement\"\n",
            " $ Disaster.Subsubtype            : chr \"\"\n",
            " $ Event.Name                     : chr \"\"\n",
            " $ Country                        : chr \"Turkey\"\n",
            " $ ISO                            : chr \"TUR\"\n",
            " $ Region                         : chr \"Western Asia\"\n",
            " $ Continent                      : chr \"Asia\"\n",
            " $ Location                       : chr \"Izmit, Kocaeli, Yalova, Golcuk, Zonguldak, Sakarya, Tekirdag, Istanbul, Bursa, Eskisehir, Bolu\"\n",
            " $ Origin                         : chr \"\"\n",
            " $ Associated.Dis                 : chr \"\"\n",
            " $ Associated.Dis2                : chr \"\"\n",
            " $ OFDA.Response                  : chr \"Yes\"\n",
            " $ Appeal                         : chr \"\"\n",
            " $ Declaration                    : chr \"Yes\"\n",
            " $ Aid.Contribution               : int 116413\n",
            " $ Dis.Mag.Value                  : int 8\n",
            " $ Dis.Mag.Scale                  : chr \"Richter\"\n",
            " $ Latitude                       : chr \"40.748\"\n",
            " $ Longitude                      : chr \"29.864\"\n",
            " $ Local.Time                     : chr \"03:02\"\n",
            " $ River.Basin                    : chr \"\"\n",
            " $ Start.Year                     : int 1999\n",
            " $ Start.Month                    : int 8\n",
            " $ Start.Day                      : int 17\n",
            " $ End.Year                       : int 1999\n",
            " $ End.Month                      : int 8\n",
            " $ End.Day                        : int 17\n",
            " $ Total.Deaths                   : int 17127\n",
            " $ No.Injured                     : int 43953\n",
            " $ No.Affected                    : int 715000\n",
            " $ No.Homeless                    : int 600000\n",
            " $ Total.Affected                 : int 1358953\n",
            " $ Reconstruction.Costs...000.US..: int 25000000\n",
            " $ Insured.Damages...000.US..     : int 2000000\n",
            " $ Total.Damages...000.US..       : int 20000000\n",
            " $ CPI                            : num 64.4\n",
            " $ Adm.Level                      : chr \"\"\n",
            " $ Admin1.Code                    : chr \"\"\n",
            " $ Admin2.Code                    : chr \"\"\n",
            " $ Geo.Locations                  : chr \"\"\n",
            " - attr(*, \"na.action\")= 'omit' Named int [1:14643] 1 2 3 4 5 6 7 8 9 10 ...\n",
            "  ..- attr(*, \"names\")= chr [1:14643] \"1\" \"2\" \"3\" \"4\" ...\n"
          ]
        }
      ]
    }
  ]
}