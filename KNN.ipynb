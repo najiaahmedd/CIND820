{
  "cells": [
    {
      "cell_type": "markdown",
      "metadata": {
        "id": "view-in-github",
        "colab_type": "text"
      },
      "source": [
        "<a href=\"https://colab.research.google.com/github/najiaahmedd/CIND820-Lit-Review/blob/main/KNN.ipynb\" target=\"_parent\"><img src=\"https://colab.research.google.com/assets/colab-badge.svg\" alt=\"Open In Colab\"/></a>"
      ]
    },
    {
      "cell_type": "code",
      "execution_count": 4,
      "metadata": {
        "id": "n3TDRyw302FC"
      },
      "outputs": [],
      "source": [
        "data1<-read.csv(\"projectfiles.csv\")"
      ]
    },
    {
      "cell_type": "code",
      "execution_count": 5,
      "metadata": {
        "colab": {
          "base_uri": "https://localhost:8080/"
        },
        "id": "hg4kZWv31A3m",
        "outputId": "13b77a33-0709-48a1-a3bd-d61d984ca8a9"
      },
      "outputs": [
        {
          "output_type": "stream",
          "name": "stderr",
          "text": [
            "Installing package into ‘/usr/local/lib/R/site-library’\n",
            "(as ‘lib’ is unspecified)\n",
            "\n",
            "\n",
            "Attaching package: ‘mice’\n",
            "\n",
            "\n",
            "The following object is masked from ‘package:stats’:\n",
            "\n",
            "    filter\n",
            "\n",
            "\n",
            "The following objects are masked from ‘package:base’:\n",
            "\n",
            "    cbind, rbind\n",
            "\n",
            "\n"
          ]
        }
      ],
      "source": [
        "install.packages(\"mice\")\n",
        "library(mice)"
      ]
    },
    {
      "cell_type": "code",
      "execution_count": 6,
      "metadata": {
        "id": "HxxZkR0z1Da8"
      },
      "outputs": [],
      "source": [
        "dataclean<-subset(data1, select = c(Year,Disaster.Group,Disaster.Subgroup, Disaster.Type, Disaster.Subtype, Country, Region, Total.Deaths, No.Injured, No.Affected, No.Homeless, Total.Affected, Total.Damages...000.US.., Reconstruction.Costs...000.US.., Insured.Damages...000.US..))\n",
        "dataclean1<-subset(data1, select = c(Year,Total.Deaths, No.Injured, No.Affected, No.Homeless, Total.Affected, Total.Damages...000.US.., Reconstruction.Costs...000.US.., Insured.Damages...000.US..))\n",
        "data2<-subset(dataclean, select = c(Year,Disaster.Group,Disaster.Subgroup, Disaster.Type, Disaster.Subtype, Country, Region, Total.Deaths, No.Injured, No.Homeless, Total.Affected, Total.Damages...000.US.., Reconstruction.Costs...000.US.., Insured.Damages...000.US..))\n",
        "data2$Year <- as.character(data2$Year)"
      ]
    },
    {
      "cell_type": "code",
      "execution_count": 7,
      "metadata": {
        "colab": {
          "base_uri": "https://localhost:8080/"
        },
        "id": "JmqgRtjw1D0_",
        "outputId": "5140ffb2-f9b4-4535-8bc4-09fb2321295b"
      },
      "outputs": [
        {
          "output_type": "stream",
          "name": "stdout",
          "text": [
            "\n",
            " iter imp variable\n",
            "  1   1  Total.Deaths  No.Injured  No.Homeless  Total.Affected  Total.Damages...000.US..  Reconstruction.Costs...000.US..  Insured.Damages...000.US..\n",
            "  1   2  Total.Deaths  No.Injured  No.Homeless  Total.Affected  Total.Damages...000.US..  Reconstruction.Costs...000.US..  Insured.Damages...000.US..\n",
            "  1   3  Total.Deaths  No.Injured  No.Homeless  Total.Affected  Total.Damages...000.US..  Reconstruction.Costs...000.US..  Insured.Damages...000.US..\n",
            "  2   1  Total.Deaths  No.Injured  No.Homeless  Total.Affected  Total.Damages...000.US..  Reconstruction.Costs...000.US..  Insured.Damages...000.US..\n",
            "  2   2  Total.Deaths  No.Injured  No.Homeless  Total.Affected  Total.Damages...000.US..  Reconstruction.Costs...000.US..  Insured.Damages...000.US..\n",
            "  2   3  Total.Deaths  No.Injured  No.Homeless  Total.Affected  Total.Damages...000.US..  Reconstruction.Costs...000.US..  Insured.Damages...000.US..\n",
            "  3   1  Total.Deaths  No.Injured  No.Homeless  Total.Affected  Total.Damages...000.US..  Reconstruction.Costs...000.US..  Insured.Damages...000.US..\n",
            "  3   2  Total.Deaths  No.Injured  No.Homeless  Total.Affected  Total.Damages...000.US..  Reconstruction.Costs...000.US..  Insured.Damages...000.US..\n",
            "  3   3  Total.Deaths  No.Injured  No.Homeless  Total.Affected  Total.Damages...000.US..  Reconstruction.Costs...000.US..  Insured.Damages...000.US..\n",
            "  4   1  Total.Deaths  No.Injured  No.Homeless  Total.Affected  Total.Damages...000.US..  Reconstruction.Costs...000.US..  Insured.Damages...000.US..\n",
            "  4   2  Total.Deaths  No.Injured  No.Homeless  Total.Affected  Total.Damages...000.US..  Reconstruction.Costs...000.US..  Insured.Damages...000.US..\n",
            "  4   3  Total.Deaths  No.Injured  No.Homeless  Total.Affected  Total.Damages...000.US..  Reconstruction.Costs...000.US..  Insured.Damages...000.US..\n",
            "  5   1  Total.Deaths  No.Injured  No.Homeless  Total.Affected  Total.Damages...000.US..  Reconstruction.Costs...000.US..  Insured.Damages...000.US..\n",
            "  5   2  Total.Deaths  No.Injured  No.Homeless  Total.Affected  Total.Damages...000.US..  Reconstruction.Costs...000.US..  Insured.Damages...000.US..\n",
            "  5   3  Total.Deaths  No.Injured  No.Homeless  Total.Affected  Total.Damages...000.US..  Reconstruction.Costs...000.US..  Insured.Damages...000.US..\n",
            "  6   1  Total.Deaths  No.Injured  No.Homeless  Total.Affected  Total.Damages...000.US..  Reconstruction.Costs...000.US..  Insured.Damages...000.US..\n",
            "  6   2  Total.Deaths  No.Injured  No.Homeless  Total.Affected  Total.Damages...000.US..  Reconstruction.Costs...000.US..  Insured.Damages...000.US..\n",
            "  6   3  Total.Deaths  No.Injured  No.Homeless  Total.Affected  Total.Damages...000.US..  Reconstruction.Costs...000.US..  Insured.Damages...000.US..\n",
            "  7   1  Total.Deaths  No.Injured  No.Homeless  Total.Affected  Total.Damages...000.US..  Reconstruction.Costs...000.US..  Insured.Damages...000.US..\n",
            "  7   2  Total.Deaths  No.Injured  No.Homeless  Total.Affected  Total.Damages...000.US..  Reconstruction.Costs...000.US..  Insured.Damages...000.US..\n",
            "  7   3  Total.Deaths  No.Injured  No.Homeless  Total.Affected  Total.Damages...000.US..  Reconstruction.Costs...000.US..  Insured.Damages...000.US..\n",
            "  8   1  Total.Deaths  No.Injured  No.Homeless  Total.Affected  Total.Damages...000.US..  Reconstruction.Costs...000.US..  Insured.Damages...000.US..\n",
            "  8   2  Total.Deaths  No.Injured  No.Homeless  Total.Affected  Total.Damages...000.US..  Reconstruction.Costs...000.US..  Insured.Damages...000.US..\n",
            "  8   3  Total.Deaths  No.Injured  No.Homeless  Total.Affected  Total.Damages...000.US..  Reconstruction.Costs...000.US..  Insured.Damages...000.US..\n",
            "  9   1  Total.Deaths  No.Injured  No.Homeless  Total.Affected  Total.Damages...000.US..  Reconstruction.Costs...000.US..  Insured.Damages...000.US..\n",
            "  9   2  Total.Deaths  No.Injured  No.Homeless  Total.Affected  Total.Damages...000.US..  Reconstruction.Costs...000.US..  Insured.Damages...000.US..\n",
            "  9   3  Total.Deaths  No.Injured  No.Homeless  Total.Affected  Total.Damages...000.US..  Reconstruction.Costs...000.US..  Insured.Damages...000.US..\n",
            "  10   1  Total.Deaths  No.Injured  No.Homeless  Total.Affected  Total.Damages...000.US..  Reconstruction.Costs...000.US..  Insured.Damages...000.US..\n",
            "  10   2  Total.Deaths  No.Injured  No.Homeless  Total.Affected  Total.Damages...000.US..  Reconstruction.Costs...000.US..  Insured.Damages...000.US..\n",
            "  10   3  Total.Deaths  No.Injured  No.Homeless  Total.Affected  Total.Damages...000.US..  Reconstruction.Costs...000.US..  Insured.Damages...000.US..\n",
            "  11   1  Total.Deaths  No.Injured  No.Homeless  Total.Affected  Total.Damages...000.US..  Reconstruction.Costs...000.US..  Insured.Damages...000.US..\n",
            "  11   2  Total.Deaths  No.Injured  No.Homeless  Total.Affected  Total.Damages...000.US..  Reconstruction.Costs...000.US..  Insured.Damages...000.US..\n",
            "  11   3  Total.Deaths  No.Injured  No.Homeless  Total.Affected  Total.Damages...000.US..  Reconstruction.Costs...000.US..  Insured.Damages...000.US..\n",
            "  12   1  Total.Deaths  No.Injured  No.Homeless  Total.Affected  Total.Damages...000.US..  Reconstruction.Costs...000.US..  Insured.Damages...000.US..\n",
            "  12   2  Total.Deaths  No.Injured  No.Homeless  Total.Affected  Total.Damages...000.US..  Reconstruction.Costs...000.US..  Insured.Damages...000.US..\n",
            "  12   3  Total.Deaths  No.Injured  No.Homeless  Total.Affected  Total.Damages...000.US..  Reconstruction.Costs...000.US..  Insured.Damages...000.US..\n",
            "  13   1  Total.Deaths  No.Injured  No.Homeless  Total.Affected  Total.Damages...000.US..  Reconstruction.Costs...000.US..  Insured.Damages...000.US..\n",
            "  13   2  Total.Deaths  No.Injured  No.Homeless  Total.Affected  Total.Damages...000.US..  Reconstruction.Costs...000.US..  Insured.Damages...000.US..\n",
            "  13   3  Total.Deaths  No.Injured  No.Homeless  Total.Affected  Total.Damages...000.US..  Reconstruction.Costs...000.US..  Insured.Damages...000.US..\n",
            "  14   1  Total.Deaths  No.Injured  No.Homeless  Total.Affected  Total.Damages...000.US..  Reconstruction.Costs...000.US..  Insured.Damages...000.US..\n",
            "  14   2  Total.Deaths  No.Injured  No.Homeless  Total.Affected  Total.Damages...000.US..  Reconstruction.Costs...000.US..  Insured.Damages...000.US..\n",
            "  14   3  Total.Deaths  No.Injured  No.Homeless  Total.Affected  Total.Damages...000.US..  Reconstruction.Costs...000.US..  Insured.Damages...000.US..\n",
            "  15   1  Total.Deaths  No.Injured  No.Homeless  Total.Affected  Total.Damages...000.US..  Reconstruction.Costs...000.US..  Insured.Damages...000.US..\n",
            "  15   2  Total.Deaths  No.Injured  No.Homeless  Total.Affected  Total.Damages...000.US..  Reconstruction.Costs...000.US..  Insured.Damages...000.US..\n",
            "  15   3  Total.Deaths  No.Injured  No.Homeless  Total.Affected  Total.Damages...000.US..  Reconstruction.Costs...000.US..  Insured.Damages...000.US..\n",
            "  16   1  Total.Deaths  No.Injured  No.Homeless  Total.Affected  Total.Damages...000.US..  Reconstruction.Costs...000.US..  Insured.Damages...000.US..\n",
            "  16   2  Total.Deaths  No.Injured  No.Homeless  Total.Affected  Total.Damages...000.US..  Reconstruction.Costs...000.US..  Insured.Damages...000.US..\n",
            "  16   3  Total.Deaths  No.Injured  No.Homeless  Total.Affected  Total.Damages...000.US..  Reconstruction.Costs...000.US..  Insured.Damages...000.US..\n",
            "  17   1  Total.Deaths  No.Injured  No.Homeless  Total.Affected  Total.Damages...000.US..  Reconstruction.Costs...000.US..  Insured.Damages...000.US..\n",
            "  17   2  Total.Deaths  No.Injured  No.Homeless  Total.Affected  Total.Damages...000.US..  Reconstruction.Costs...000.US..  Insured.Damages...000.US..\n",
            "  17   3  Total.Deaths  No.Injured  No.Homeless  Total.Affected  Total.Damages...000.US..  Reconstruction.Costs...000.US..  Insured.Damages...000.US..\n",
            "  18   1  Total.Deaths  No.Injured  No.Homeless  Total.Affected  Total.Damages...000.US..  Reconstruction.Costs...000.US..  Insured.Damages...000.US..\n",
            "  18   2  Total.Deaths  No.Injured  No.Homeless  Total.Affected  Total.Damages...000.US..  Reconstruction.Costs...000.US..  Insured.Damages...000.US..\n",
            "  18   3  Total.Deaths  No.Injured  No.Homeless  Total.Affected  Total.Damages...000.US..  Reconstruction.Costs...000.US..  Insured.Damages...000.US..\n",
            "  19   1  Total.Deaths  No.Injured  No.Homeless  Total.Affected  Total.Damages...000.US..  Reconstruction.Costs...000.US..  Insured.Damages...000.US..\n",
            "  19   2  Total.Deaths  No.Injured  No.Homeless  Total.Affected  Total.Damages...000.US..  Reconstruction.Costs...000.US..  Insured.Damages...000.US..\n",
            "  19   3  Total.Deaths  No.Injured  No.Homeless  Total.Affected  Total.Damages...000.US..  Reconstruction.Costs...000.US..  Insured.Damages...000.US..\n",
            "  20   1  Total.Deaths  No.Injured  No.Homeless  Total.Affected  Total.Damages...000.US..  Reconstruction.Costs...000.US..  Insured.Damages...000.US..\n",
            "  20   2  Total.Deaths  No.Injured  No.Homeless  Total.Affected  Total.Damages...000.US..  Reconstruction.Costs...000.US..  Insured.Damages...000.US..\n",
            "  20   3  Total.Deaths  No.Injured  No.Homeless  Total.Affected  Total.Damages...000.US..  Reconstruction.Costs...000.US..  Insured.Damages...000.US..\n",
            "  21   1  Total.Deaths  No.Injured  No.Homeless  Total.Affected  Total.Damages...000.US..  Reconstruction.Costs...000.US..  Insured.Damages...000.US..\n",
            "  21   2  Total.Deaths  No.Injured  No.Homeless  Total.Affected  Total.Damages...000.US..  Reconstruction.Costs...000.US..  Insured.Damages...000.US..\n",
            "  21   3  Total.Deaths  No.Injured  No.Homeless  Total.Affected  Total.Damages...000.US..  Reconstruction.Costs...000.US..  Insured.Damages...000.US..\n",
            "  22   1  Total.Deaths  No.Injured  No.Homeless  Total.Affected  Total.Damages...000.US..  Reconstruction.Costs...000.US..  Insured.Damages...000.US..\n",
            "  22   2  Total.Deaths  No.Injured  No.Homeless  Total.Affected  Total.Damages...000.US..  Reconstruction.Costs...000.US..  Insured.Damages...000.US..\n",
            "  22   3  Total.Deaths  No.Injured  No.Homeless  Total.Affected  Total.Damages...000.US..  Reconstruction.Costs...000.US..  Insured.Damages...000.US..\n",
            "  23   1  Total.Deaths  No.Injured  No.Homeless  Total.Affected  Total.Damages...000.US..  Reconstruction.Costs...000.US..  Insured.Damages...000.US..\n",
            "  23   2  Total.Deaths  No.Injured  No.Homeless  Total.Affected  Total.Damages...000.US..  Reconstruction.Costs...000.US..  Insured.Damages...000.US..\n",
            "  23   3  Total.Deaths  No.Injured  No.Homeless  Total.Affected  Total.Damages...000.US..  Reconstruction.Costs...000.US..  Insured.Damages...000.US..\n",
            "  24   1  Total.Deaths  No.Injured  No.Homeless  Total.Affected  Total.Damages...000.US..  Reconstruction.Costs...000.US..  Insured.Damages...000.US..\n",
            "  24   2  Total.Deaths  No.Injured  No.Homeless  Total.Affected  Total.Damages...000.US..  Reconstruction.Costs...000.US..  Insured.Damages...000.US..\n",
            "  24   3  Total.Deaths  No.Injured  No.Homeless  Total.Affected  Total.Damages...000.US..  Reconstruction.Costs...000.US..  Insured.Damages...000.US..\n",
            "  25   1  Total.Deaths  No.Injured  No.Homeless  Total.Affected  Total.Damages...000.US..  Reconstruction.Costs...000.US..  Insured.Damages...000.US..\n",
            "  25   2  Total.Deaths  No.Injured  No.Homeless  Total.Affected  Total.Damages...000.US..  Reconstruction.Costs...000.US..  Insured.Damages...000.US..\n",
            "  25   3  Total.Deaths  No.Injured  No.Homeless  Total.Affected  Total.Damages...000.US..  Reconstruction.Costs...000.US..  Insured.Damages...000.US..\n",
            "  26   1  Total.Deaths  No.Injured  No.Homeless  Total.Affected  Total.Damages...000.US..  Reconstruction.Costs...000.US..  Insured.Damages...000.US..\n",
            "  26   2  Total.Deaths  No.Injured  No.Homeless  Total.Affected  Total.Damages...000.US..  Reconstruction.Costs...000.US..  Insured.Damages...000.US..\n",
            "  26   3  Total.Deaths  No.Injured  No.Homeless  Total.Affected  Total.Damages...000.US..  Reconstruction.Costs...000.US..  Insured.Damages...000.US..\n",
            "  27   1  Total.Deaths  No.Injured  No.Homeless  Total.Affected  Total.Damages...000.US..  Reconstruction.Costs...000.US..  Insured.Damages...000.US..\n",
            "  27   2  Total.Deaths  No.Injured  No.Homeless  Total.Affected  Total.Damages...000.US..  Reconstruction.Costs...000.US..  Insured.Damages...000.US..\n",
            "  27   3  Total.Deaths  No.Injured  No.Homeless  Total.Affected  Total.Damages...000.US..  Reconstruction.Costs...000.US..  Insured.Damages...000.US..\n",
            "  28   1  Total.Deaths  No.Injured  No.Homeless  Total.Affected  Total.Damages...000.US..  Reconstruction.Costs...000.US..  Insured.Damages...000.US..\n",
            "  28   2  Total.Deaths  No.Injured  No.Homeless  Total.Affected  Total.Damages...000.US..  Reconstruction.Costs...000.US..  Insured.Damages...000.US..\n",
            "  28   3  Total.Deaths  No.Injured  No.Homeless  Total.Affected  Total.Damages...000.US..  Reconstruction.Costs...000.US..  Insured.Damages...000.US..\n",
            "  29   1  Total.Deaths  No.Injured  No.Homeless  Total.Affected  Total.Damages...000.US..  Reconstruction.Costs...000.US..  Insured.Damages...000.US..\n",
            "  29   2  Total.Deaths  No.Injured  No.Homeless  Total.Affected  Total.Damages...000.US..  Reconstruction.Costs...000.US..  Insured.Damages...000.US..\n",
            "  29   3  Total.Deaths  No.Injured  No.Homeless  Total.Affected  Total.Damages...000.US..  Reconstruction.Costs...000.US..  Insured.Damages...000.US..\n",
            "  30   1  Total.Deaths  No.Injured  No.Homeless  Total.Affected  Total.Damages...000.US..  Reconstruction.Costs...000.US..  Insured.Damages...000.US..\n",
            "  30   2  Total.Deaths  No.Injured  No.Homeless  Total.Affected  Total.Damages...000.US..  Reconstruction.Costs...000.US..  Insured.Damages...000.US..\n",
            "  30   3  Total.Deaths  No.Injured  No.Homeless  Total.Affected  Total.Damages...000.US..  Reconstruction.Costs...000.US..  Insured.Damages...000.US..\n",
            "  31   1  Total.Deaths  No.Injured  No.Homeless  Total.Affected  Total.Damages...000.US..  Reconstruction.Costs...000.US..  Insured.Damages...000.US..\n",
            "  31   2  Total.Deaths  No.Injured  No.Homeless  Total.Affected  Total.Damages...000.US..  Reconstruction.Costs...000.US..  Insured.Damages...000.US..\n",
            "  31   3  Total.Deaths  No.Injured  No.Homeless  Total.Affected  Total.Damages...000.US..  Reconstruction.Costs...000.US..  Insured.Damages...000.US..\n",
            "  32   1  Total.Deaths  No.Injured  No.Homeless  Total.Affected  Total.Damages...000.US..  Reconstruction.Costs...000.US..  Insured.Damages...000.US..\n",
            "  32   2  Total.Deaths  No.Injured  No.Homeless  Total.Affected  Total.Damages...000.US..  Reconstruction.Costs...000.US..  Insured.Damages...000.US..\n",
            "  32   3  Total.Deaths  No.Injured  No.Homeless  Total.Affected  Total.Damages...000.US..  Reconstruction.Costs...000.US..  Insured.Damages...000.US..\n",
            "  33   1  Total.Deaths  No.Injured  No.Homeless  Total.Affected  Total.Damages...000.US..  Reconstruction.Costs...000.US..  Insured.Damages...000.US..\n",
            "  33   2  Total.Deaths  No.Injured  No.Homeless  Total.Affected  Total.Damages...000.US..  Reconstruction.Costs...000.US..  Insured.Damages...000.US..\n",
            "  33   3  Total.Deaths  No.Injured  No.Homeless  Total.Affected  Total.Damages...000.US..  Reconstruction.Costs...000.US..  Insured.Damages...000.US..\n",
            "  34   1  Total.Deaths  No.Injured  No.Homeless  Total.Affected  Total.Damages...000.US..  Reconstruction.Costs...000.US..  Insured.Damages...000.US..\n",
            "  34   2  Total.Deaths  No.Injured  No.Homeless  Total.Affected  Total.Damages...000.US..  Reconstruction.Costs...000.US..  Insured.Damages...000.US..\n",
            "  34   3  Total.Deaths  No.Injured  No.Homeless  Total.Affected  Total.Damages...000.US..  Reconstruction.Costs...000.US..  Insured.Damages...000.US..\n",
            "  35   1  Total.Deaths  No.Injured  No.Homeless  Total.Affected  Total.Damages...000.US..  Reconstruction.Costs...000.US..  Insured.Damages...000.US..\n",
            "  35   2  Total.Deaths  No.Injured  No.Homeless  Total.Affected  Total.Damages...000.US..  Reconstruction.Costs...000.US..  Insured.Damages...000.US..\n",
            "  35   3  Total.Deaths  No.Injured  No.Homeless  Total.Affected  Total.Damages...000.US..  Reconstruction.Costs...000.US..  Insured.Damages...000.US..\n",
            "  36   1  Total.Deaths  No.Injured  No.Homeless  Total.Affected  Total.Damages...000.US..  Reconstruction.Costs...000.US..  Insured.Damages...000.US..\n",
            "  36   2  Total.Deaths  No.Injured  No.Homeless  Total.Affected  Total.Damages...000.US..  Reconstruction.Costs...000.US..  Insured.Damages...000.US..\n",
            "  36   3  Total.Deaths  No.Injured  No.Homeless  Total.Affected  Total.Damages...000.US..  Reconstruction.Costs...000.US..  Insured.Damages...000.US..\n",
            "  37   1  Total.Deaths  No.Injured  No.Homeless  Total.Affected  Total.Damages...000.US..  Reconstruction.Costs...000.US..  Insured.Damages...000.US..\n",
            "  37   2  Total.Deaths  No.Injured  No.Homeless  Total.Affected  Total.Damages...000.US..  Reconstruction.Costs...000.US..  Insured.Damages...000.US..\n",
            "  37   3  Total.Deaths  No.Injured  No.Homeless  Total.Affected  Total.Damages...000.US..  Reconstruction.Costs...000.US..  Insured.Damages...000.US..\n",
            "  38   1  Total.Deaths  No.Injured  No.Homeless  Total.Affected  Total.Damages...000.US..  Reconstruction.Costs...000.US..  Insured.Damages...000.US..\n",
            "  38   2  Total.Deaths  No.Injured  No.Homeless  Total.Affected  Total.Damages...000.US..  Reconstruction.Costs...000.US..  Insured.Damages...000.US..\n",
            "  38   3  Total.Deaths  No.Injured  No.Homeless  Total.Affected  Total.Damages...000.US..  Reconstruction.Costs...000.US..  Insured.Damages...000.US..\n",
            "  39   1  Total.Deaths  No.Injured  No.Homeless  Total.Affected  Total.Damages...000.US..  Reconstruction.Costs...000.US..  Insured.Damages...000.US..\n",
            "  39   2  Total.Deaths  No.Injured  No.Homeless  Total.Affected  Total.Damages...000.US..  Reconstruction.Costs...000.US..  Insured.Damages...000.US..\n",
            "  39   3  Total.Deaths  No.Injured  No.Homeless  Total.Affected  Total.Damages...000.US..  Reconstruction.Costs...000.US..  Insured.Damages...000.US..\n",
            "  40   1  Total.Deaths  No.Injured  No.Homeless  Total.Affected  Total.Damages...000.US..  Reconstruction.Costs...000.US..  Insured.Damages...000.US..\n",
            "  40   2  Total.Deaths  No.Injured  No.Homeless  Total.Affected  Total.Damages...000.US..  Reconstruction.Costs...000.US..  Insured.Damages...000.US..\n",
            "  40   3  Total.Deaths  No.Injured  No.Homeless  Total.Affected  Total.Damages...000.US..  Reconstruction.Costs...000.US..  Insured.Damages...000.US..\n",
            "  41   1  Total.Deaths  No.Injured  No.Homeless  Total.Affected  Total.Damages...000.US..  Reconstruction.Costs...000.US..  Insured.Damages...000.US..\n",
            "  41   2  Total.Deaths  No.Injured  No.Homeless  Total.Affected  Total.Damages...000.US..  Reconstruction.Costs...000.US..  Insured.Damages...000.US..\n",
            "  41   3  Total.Deaths  No.Injured  No.Homeless  Total.Affected  Total.Damages...000.US..  Reconstruction.Costs...000.US..  Insured.Damages...000.US..\n",
            "  42   1  Total.Deaths  No.Injured  No.Homeless  Total.Affected  Total.Damages...000.US..  Reconstruction.Costs...000.US..  Insured.Damages...000.US..\n",
            "  42   2  Total.Deaths  No.Injured  No.Homeless  Total.Affected  Total.Damages...000.US..  Reconstruction.Costs...000.US..  Insured.Damages...000.US..\n",
            "  42   3  Total.Deaths  No.Injured  No.Homeless  Total.Affected  Total.Damages...000.US..  Reconstruction.Costs...000.US..  Insured.Damages...000.US..\n",
            "  43   1  Total.Deaths  No.Injured  No.Homeless  Total.Affected  Total.Damages...000.US..  Reconstruction.Costs...000.US..  Insured.Damages...000.US..\n",
            "  43   2  Total.Deaths  No.Injured  No.Homeless  Total.Affected  Total.Damages...000.US..  Reconstruction.Costs...000.US..  Insured.Damages...000.US..\n",
            "  43   3  Total.Deaths  No.Injured  No.Homeless  Total.Affected  Total.Damages...000.US..  Reconstruction.Costs...000.US..  Insured.Damages...000.US..\n",
            "  44   1  Total.Deaths  No.Injured  No.Homeless  Total.Affected  Total.Damages...000.US..  Reconstruction.Costs...000.US..  Insured.Damages...000.US..\n",
            "  44   2  Total.Deaths  No.Injured  No.Homeless  Total.Affected  Total.Damages...000.US..  Reconstruction.Costs...000.US..  Insured.Damages...000.US..\n",
            "  44   3  Total.Deaths  No.Injured  No.Homeless  Total.Affected  Total.Damages...000.US..  Reconstruction.Costs...000.US..  Insured.Damages...000.US..\n",
            "  45   1  Total.Deaths  No.Injured  No.Homeless  Total.Affected  Total.Damages...000.US..  Reconstruction.Costs...000.US..  Insured.Damages...000.US..\n",
            "  45   2  Total.Deaths  No.Injured  No.Homeless  Total.Affected  Total.Damages...000.US..  Reconstruction.Costs...000.US..  Insured.Damages...000.US..\n",
            "  45   3  Total.Deaths  No.Injured  No.Homeless  Total.Affected  Total.Damages...000.US..  Reconstruction.Costs...000.US..  Insured.Damages...000.US..\n",
            "  46   1  Total.Deaths  No.Injured  No.Homeless  Total.Affected  Total.Damages...000.US..  Reconstruction.Costs...000.US..  Insured.Damages...000.US..\n",
            "  46   2  Total.Deaths  No.Injured  No.Homeless  Total.Affected  Total.Damages...000.US..  Reconstruction.Costs...000.US..  Insured.Damages...000.US..\n",
            "  46   3  Total.Deaths  No.Injured  No.Homeless  Total.Affected  Total.Damages...000.US..  Reconstruction.Costs...000.US..  Insured.Damages...000.US..\n",
            "  47   1  Total.Deaths  No.Injured  No.Homeless  Total.Affected  Total.Damages...000.US..  Reconstruction.Costs...000.US..  Insured.Damages...000.US..\n",
            "  47   2  Total.Deaths  No.Injured  No.Homeless  Total.Affected  Total.Damages...000.US..  Reconstruction.Costs...000.US..  Insured.Damages...000.US..\n",
            "  47   3  Total.Deaths  No.Injured  No.Homeless  Total.Affected  Total.Damages...000.US..  Reconstruction.Costs...000.US..  Insured.Damages...000.US..\n",
            "  48   1  Total.Deaths  No.Injured  No.Homeless  Total.Affected  Total.Damages...000.US..  Reconstruction.Costs...000.US..  Insured.Damages...000.US..\n",
            "  48   2  Total.Deaths  No.Injured  No.Homeless  Total.Affected  Total.Damages...000.US..  Reconstruction.Costs...000.US..  Insured.Damages...000.US..\n",
            "  48   3  Total.Deaths  No.Injured  No.Homeless  Total.Affected  Total.Damages...000.US..  Reconstruction.Costs...000.US..  Insured.Damages...000.US..\n",
            "  49   1  Total.Deaths  No.Injured  No.Homeless  Total.Affected  Total.Damages...000.US..  Reconstruction.Costs...000.US..  Insured.Damages...000.US..\n",
            "  49   2  Total.Deaths  No.Injured  No.Homeless  Total.Affected  Total.Damages...000.US..  Reconstruction.Costs...000.US..  Insured.Damages...000.US..\n",
            "  49   3  Total.Deaths  No.Injured  No.Homeless  Total.Affected  Total.Damages...000.US..  Reconstruction.Costs...000.US..  Insured.Damages...000.US..\n",
            "  50   1  Total.Deaths  No.Injured  No.Homeless  Total.Affected  Total.Damages...000.US..  Reconstruction.Costs...000.US..  Insured.Damages...000.US..\n",
            "  50   2  Total.Deaths  No.Injured  No.Homeless  Total.Affected  Total.Damages...000.US..  Reconstruction.Costs...000.US..  Insured.Damages...000.US..\n",
            "  50   3  Total.Deaths  No.Injured  No.Homeless  Total.Affected  Total.Damages...000.US..  Reconstruction.Costs...000.US..  Insured.Damages...000.US..\n"
          ]
        },
        {
          "output_type": "stream",
          "name": "stderr",
          "text": [
            "Warning message:\n",
            "“Number of logged events: 28”\n"
          ]
        }
      ],
      "source": [
        "imputedData<-mice (data2, m=3, maxit=50, meth='pmm', seed=600)"
      ]
    },
    {
      "cell_type": "code",
      "execution_count": 8,
      "metadata": {
        "colab": {
          "base_uri": "https://localhost:8080/",
          "height": 428
        },
        "id": "EWYZghGp1JuV",
        "outputId": "e1a5352d-125d-431a-ef50-b8b0c3de0688"
      },
      "outputs": [
        {
          "output_type": "display_data",
          "data": {
            "text/html": [
              "<table class=\"dataframe\">\n",
              "<caption>A data.frame: 6 × 11</caption>\n",
              "<thead>\n",
              "\t<tr><th></th><th scope=col>Disaster.Subgroup</th><th scope=col>Disaster.Type</th><th scope=col>Country</th><th scope=col>Region</th><th scope=col>Total.Deaths</th><th scope=col>No.Injured</th><th scope=col>No.Homeless</th><th scope=col>Total.Affected</th><th scope=col>Total.Damages...000.US..</th><th scope=col>Reconstruction.Costs...000.US..</th><th scope=col>Insured.Damages...000.US..</th></tr>\n",
              "\t<tr><th></th><th scope=col>&lt;fct&gt;</th><th scope=col>&lt;fct&gt;</th><th scope=col>&lt;fct&gt;</th><th scope=col>&lt;fct&gt;</th><th scope=col>&lt;int&gt;</th><th scope=col>&lt;int&gt;</th><th scope=col>&lt;int&gt;</th><th scope=col>&lt;int&gt;</th><th scope=col>&lt;int&gt;</th><th scope=col>&lt;int&gt;</th><th scope=col>&lt;int&gt;</th></tr>\n",
              "</thead>\n",
              "<tbody>\n",
              "\t<tr><th scope=row>1</th><td>Hydrological  </td><td>Flood</td><td>Argentina </td><td>South America            </td><td>    36</td><td>5805</td><td> 105500</td><td> 1260000</td><td>25000</td><td> 2450000</td><td> 130000</td></tr>\n",
              "\t<tr><th scope=row>2</th><td>Meteorological</td><td>Storm</td><td>Australia </td><td>Australia and New Zealand</td><td>    13</td><td>  20</td><td>  32000</td><td>     310</td><td>72475</td><td>    1510</td><td> 920000</td></tr>\n",
              "\t<tr><th scope=row>3</th><td>Hydrological  </td><td>Flood</td><td>Benin     </td><td>Western Africa           </td><td>    12</td><td>   7</td><td>  36000</td><td>     855</td><td>  200</td><td>  194000</td><td> 340000</td></tr>\n",
              "\t<tr><th scope=row>4</th><td>Meteorological</td><td>Storm</td><td>Bangladesh</td><td>Southern Asia            </td><td>300000</td><td>  61</td><td> 532898</td><td> 3648000</td><td>86400</td><td> 1600000</td><td>9600000</td></tr>\n",
              "\t<tr><th scope=row>5</th><td>Meteorological</td><td>Storm</td><td>Bangladesh</td><td>Southern Asia            </td><td>    17</td><td>   8</td><td>   4237</td><td>     110</td><td> 7300</td><td>    3000</td><td> 475000</td></tr>\n",
              "\t<tr><th scope=row>6</th><td>Hydrological  </td><td>Flood</td><td>Bangladesh</td><td>Southern Asia            </td><td>     4</td><td>  32</td><td>2000000</td><td>10000000</td><td>25000</td><td>11500000</td><td>  60000</td></tr>\n",
              "</tbody>\n",
              "</table>\n"
            ],
            "text/markdown": "\nA data.frame: 6 × 11\n\n| <!--/--> | Disaster.Subgroup &lt;fct&gt; | Disaster.Type &lt;fct&gt; | Country &lt;fct&gt; | Region &lt;fct&gt; | Total.Deaths &lt;int&gt; | No.Injured &lt;int&gt; | No.Homeless &lt;int&gt; | Total.Affected &lt;int&gt; | Total.Damages...000.US.. &lt;int&gt; | Reconstruction.Costs...000.US.. &lt;int&gt; | Insured.Damages...000.US.. &lt;int&gt; |\n|---|---|---|---|---|---|---|---|---|---|---|---|\n| 1 | Hydrological   | Flood | Argentina  | South America             |     36 | 5805 |  105500 |  1260000 | 25000 |  2450000 |  130000 |\n| 2 | Meteorological | Storm | Australia  | Australia and New Zealand |     13 |   20 |   32000 |      310 | 72475 |     1510 |  920000 |\n| 3 | Hydrological   | Flood | Benin      | Western Africa            |     12 |    7 |   36000 |      855 |   200 |   194000 |  340000 |\n| 4 | Meteorological | Storm | Bangladesh | Southern Asia             | 300000 |   61 |  532898 |  3648000 | 86400 |  1600000 | 9600000 |\n| 5 | Meteorological | Storm | Bangladesh | Southern Asia             |     17 |    8 |    4237 |      110 |  7300 |     3000 |  475000 |\n| 6 | Hydrological   | Flood | Bangladesh | Southern Asia             |      4 |   32 | 2000000 | 10000000 | 25000 | 11500000 |   60000 |\n\n",
            "text/latex": "A data.frame: 6 × 11\n\\begin{tabular}{r|lllllllllll}\n  & Disaster.Subgroup & Disaster.Type & Country & Region & Total.Deaths & No.Injured & No.Homeless & Total.Affected & Total.Damages...000.US.. & Reconstruction.Costs...000.US.. & Insured.Damages...000.US..\\\\\n  & <fct> & <fct> & <fct> & <fct> & <int> & <int> & <int> & <int> & <int> & <int> & <int>\\\\\n\\hline\n\t1 & Hydrological   & Flood & Argentina  & South America             &     36 & 5805 &  105500 &  1260000 & 25000 &  2450000 &  130000\\\\\n\t2 & Meteorological & Storm & Australia  & Australia and New Zealand &     13 &   20 &   32000 &      310 & 72475 &     1510 &  920000\\\\\n\t3 & Hydrological   & Flood & Benin      & Western Africa            &     12 &    7 &   36000 &      855 &   200 &   194000 &  340000\\\\\n\t4 & Meteorological & Storm & Bangladesh & Southern Asia             & 300000 &   61 &  532898 &  3648000 & 86400 &  1600000 & 9600000\\\\\n\t5 & Meteorological & Storm & Bangladesh & Southern Asia             &     17 &    8 &    4237 &      110 &  7300 &     3000 &  475000\\\\\n\t6 & Hydrological   & Flood & Bangladesh & Southern Asia             &      4 &   32 & 2000000 & 10000000 & 25000 & 11500000 &   60000\\\\\n\\end{tabular}\n",
            "text/plain": [
              "  Disaster.Subgroup Disaster.Type Country    Region                   \n",
              "1 Hydrological      Flood         Argentina  South America            \n",
              "2 Meteorological    Storm         Australia  Australia and New Zealand\n",
              "3 Hydrological      Flood         Benin      Western Africa           \n",
              "4 Meteorological    Storm         Bangladesh Southern Asia            \n",
              "5 Meteorological    Storm         Bangladesh Southern Asia            \n",
              "6 Hydrological      Flood         Bangladesh Southern Asia            \n",
              "  Total.Deaths No.Injured No.Homeless Total.Affected Total.Damages...000.US..\n",
              "1     36       5805        105500      1260000       25000                   \n",
              "2     13         20         32000          310       72475                   \n",
              "3     12          7         36000          855         200                   \n",
              "4 300000         61        532898      3648000       86400                   \n",
              "5     17          8          4237          110        7300                   \n",
              "6      4         32       2000000     10000000       25000                   \n",
              "  Reconstruction.Costs...000.US.. Insured.Damages...000.US..\n",
              "1  2450000                         130000                   \n",
              "2     1510                         920000                   \n",
              "3   194000                         340000                   \n",
              "4  1600000                        9600000                   \n",
              "5     3000                         475000                   \n",
              "6 11500000                          60000                   "
            ]
          },
          "metadata": {}
        }
      ],
      "source": [
        "completedata<-complete(imputedData, 1)\n",
        "completedata$Year <- as.integer(completedata$Year)\n",
        "completedata$Region <- as.factor(completedata$Region)\n",
        "completedata$Disaster.Type <- as.factor(completedata$Disaster.Type)\n",
        "completedata$Disaster.Subtype <- as.factor(completedata$Disaster.Subtype)\n",
        "completedata$Disaster.Subgroup <- as.factor(completedata$Disaster.Subgroup)\n",
        "completedata$Country <- as.factor(completedata$Country)\n",
        "##dropping Disaster.Subtype to avoid NAs\n",
        "complete2<-subset(completedata, select = c(Disaster.Subgroup, Disaster.Type, Country, Region, Total.Deaths, No.Injured, No.Homeless, Total.Affected, Total.Damages...000.US.., Reconstruction.Costs...000.US.., Insured.Damages...000.US..))\n",
        "\n",
        "head(complete2)"
      ]
    },
    {
      "cell_type": "code",
      "execution_count": 9,
      "metadata": {
        "colab": {
          "base_uri": "https://localhost:8080/",
          "height": 173
        },
        "id": "_j1exGLu4sIc",
        "outputId": "45cd3a3a-b357-41bf-c9db-87ee93a05c26"
      },
      "outputs": [
        {
          "output_type": "display_data",
          "data": {
            "text/html": [
              "<style>\n",
              ".list-inline {list-style: none; margin:0; padding: 0}\n",
              ".list-inline>li {display: inline-block}\n",
              ".list-inline>li:not(:last-child)::after {content: \"\\00b7\"; padding: 0 .5ex}\n",
              "</style>\n",
              "<ol class=list-inline><li>South America</li><li>Australia and New Zealand</li><li>Western Africa</li><li>Southern Asia</li><li>Caribbean</li><li>Southern Africa</li><li>Northern America</li><li>Western Europe</li><li>Eastern Asia</li><li>Central America</li><li>Western Asia</li><li>Eastern Africa</li><li>Eastern Europe</li><li>South-Eastern Asia</li><li>Middle Africa</li><li>Southern Europe</li><li>Melanesia</li><li>Northern Europe</li><li>Northern Africa</li><li>Micronesia</li><li>Polynesia</li><li>Russian Federation</li><li>Central Asia</li></ol>\n",
              "\n",
              "<details>\n",
              "\t<summary style=display:list-item;cursor:pointer>\n",
              "\t\t<strong>Levels</strong>:\n",
              "\t</summary>\n",
              "\t<style>\n",
              "\t.list-inline {list-style: none; margin:0; padding: 0}\n",
              "\t.list-inline>li {display: inline-block}\n",
              "\t.list-inline>li:not(:last-child)::after {content: \"\\00b7\"; padding: 0 .5ex}\n",
              "\t</style>\n",
              "\t<ol class=list-inline><li>'Australia and New Zealand'</li><li>'Caribbean'</li><li>'Central America'</li><li>'Central Asia'</li><li>'Eastern Africa'</li><li>'Eastern Asia'</li><li>'Eastern Europe'</li><li>'Melanesia'</li><li>'Micronesia'</li><li>'Middle Africa'</li><li>'Northern Africa'</li><li>'Northern America'</li><li>'Northern Europe'</li><li>'Polynesia'</li><li>'Russian Federation'</li><li>'South America'</li><li>'South-Eastern Asia'</li><li>'Southern Africa'</li><li>'Southern Asia'</li><li>'Southern Europe'</li><li>'Western Africa'</li><li>'Western Asia'</li><li>'Western Europe'</li></ol>\n",
              "</details>"
            ],
            "text/markdown": "1. South America\n2. Australia and New Zealand\n3. Western Africa\n4. Southern Asia\n5. Caribbean\n6. Southern Africa\n7. Northern America\n8. Western Europe\n9. Eastern Asia\n10. Central America\n11. Western Asia\n12. Eastern Africa\n13. Eastern Europe\n14. South-Eastern Asia\n15. Middle Africa\n16. Southern Europe\n17. Melanesia\n18. Northern Europe\n19. Northern Africa\n20. Micronesia\n21. Polynesia\n22. Russian Federation\n23. Central Asia\n\n\n\n**Levels**: 1. 'Australia and New Zealand'\n2. 'Caribbean'\n3. 'Central America'\n4. 'Central Asia'\n5. 'Eastern Africa'\n6. 'Eastern Asia'\n7. 'Eastern Europe'\n8. 'Melanesia'\n9. 'Micronesia'\n10. 'Middle Africa'\n11. 'Northern Africa'\n12. 'Northern America'\n13. 'Northern Europe'\n14. 'Polynesia'\n15. 'Russian Federation'\n16. 'South America'\n17. 'South-Eastern Asia'\n18. 'Southern Africa'\n19. 'Southern Asia'\n20. 'Southern Europe'\n21. 'Western Africa'\n22. 'Western Asia'\n23. 'Western Europe'\n\n\n",
            "text/latex": "\\begin{enumerate*}\n\\item South America\n\\item Australia and New Zealand\n\\item Western Africa\n\\item Southern Asia\n\\item Caribbean\n\\item Southern Africa\n\\item Northern America\n\\item Western Europe\n\\item Eastern Asia\n\\item Central America\n\\item Western Asia\n\\item Eastern Africa\n\\item Eastern Europe\n\\item South-Eastern Asia\n\\item Middle Africa\n\\item Southern Europe\n\\item Melanesia\n\\item Northern Europe\n\\item Northern Africa\n\\item Micronesia\n\\item Polynesia\n\\item Russian Federation\n\\item Central Asia\n\\end{enumerate*}\n\n\\emph{Levels}: \\begin{enumerate*}\n\\item 'Australia and New Zealand'\n\\item 'Caribbean'\n\\item 'Central America'\n\\item 'Central Asia'\n\\item 'Eastern Africa'\n\\item 'Eastern Asia'\n\\item 'Eastern Europe'\n\\item 'Melanesia'\n\\item 'Micronesia'\n\\item 'Middle Africa'\n\\item 'Northern Africa'\n\\item 'Northern America'\n\\item 'Northern Europe'\n\\item 'Polynesia'\n\\item 'Russian Federation'\n\\item 'South America'\n\\item 'South-Eastern Asia'\n\\item 'Southern Africa'\n\\item 'Southern Asia'\n\\item 'Southern Europe'\n\\item 'Western Africa'\n\\item 'Western Asia'\n\\item 'Western Europe'\n\\end{enumerate*}\n",
            "text/plain": [
              " [1] South America             Australia and New Zealand\n",
              " [3] Western Africa            Southern Asia            \n",
              " [5] Caribbean                 Southern Africa          \n",
              " [7] Northern America          Western Europe           \n",
              " [9] Eastern Asia              Central America          \n",
              "[11] Western Asia              Eastern Africa           \n",
              "[13] Eastern Europe            South-Eastern Asia       \n",
              "[15] Middle Africa             Southern Europe          \n",
              "[17] Melanesia                 Northern Europe          \n",
              "[19] Northern Africa           Micronesia               \n",
              "[21] Polynesia                 Russian Federation       \n",
              "[23] Central Asia             \n",
              "23 Levels: Australia and New Zealand Caribbean Central America ... Western Europe"
            ]
          },
          "metadata": {}
        },
        {
          "output_type": "display_data",
          "data": {
            "text/html": [
              "<style>\n",
              ".list-inline {list-style: none; margin:0; padding: 0}\n",
              ".list-inline>li {display: inline-block}\n",
              ".list-inline>li:not(:last-child)::after {content: \"\\00b7\"; padding: 0 .5ex}\n",
              "</style>\n",
              "<ol class=list-inline><li>Flood</li><li>Storm</li><li>Drought</li><li>Landslide</li><li>Earthquake</li><li>Epidemic</li><li>Wildfire</li><li>Mass movement (dry)</li><li>Extreme temperature </li><li>Volcanic activity</li><li>Insect infestation</li><li>Impact</li><li>Animal accident</li><li>Glacial lake outburst</li></ol>\n",
              "\n",
              "<details>\n",
              "\t<summary style=display:list-item;cursor:pointer>\n",
              "\t\t<strong>Levels</strong>:\n",
              "\t</summary>\n",
              "\t<style>\n",
              "\t.list-inline {list-style: none; margin:0; padding: 0}\n",
              "\t.list-inline>li {display: inline-block}\n",
              "\t.list-inline>li:not(:last-child)::after {content: \"\\00b7\"; padding: 0 .5ex}\n",
              "\t</style>\n",
              "\t<ol class=list-inline><li>'Animal accident'</li><li>'Drought'</li><li>'Earthquake'</li><li>'Epidemic'</li><li>'Extreme temperature '</li><li>'Flood'</li><li>'Glacial lake outburst'</li><li>'Impact'</li><li>'Insect infestation'</li><li>'Landslide'</li><li>'Mass movement (dry)'</li><li>'Storm'</li><li>'Volcanic activity'</li><li>'Wildfire'</li></ol>\n",
              "</details>"
            ],
            "text/markdown": "1. Flood\n2. Storm\n3. Drought\n4. Landslide\n5. Earthquake\n6. Epidemic\n7. Wildfire\n8. Mass movement (dry)\n9. Extreme temperature \n10. Volcanic activity\n11. Insect infestation\n12. Impact\n13. Animal accident\n14. Glacial lake outburst\n\n\n\n**Levels**: 1. 'Animal accident'\n2. 'Drought'\n3. 'Earthquake'\n4. 'Epidemic'\n5. 'Extreme temperature '\n6. 'Flood'\n7. 'Glacial lake outburst'\n8. 'Impact'\n9. 'Insect infestation'\n10. 'Landslide'\n11. 'Mass movement (dry)'\n12. 'Storm'\n13. 'Volcanic activity'\n14. 'Wildfire'\n\n\n",
            "text/latex": "\\begin{enumerate*}\n\\item Flood\n\\item Storm\n\\item Drought\n\\item Landslide\n\\item Earthquake\n\\item Epidemic\n\\item Wildfire\n\\item Mass movement (dry)\n\\item Extreme temperature \n\\item Volcanic activity\n\\item Insect infestation\n\\item Impact\n\\item Animal accident\n\\item Glacial lake outburst\n\\end{enumerate*}\n\n\\emph{Levels}: \\begin{enumerate*}\n\\item 'Animal accident'\n\\item 'Drought'\n\\item 'Earthquake'\n\\item 'Epidemic'\n\\item 'Extreme temperature '\n\\item 'Flood'\n\\item 'Glacial lake outburst'\n\\item 'Impact'\n\\item 'Insect infestation'\n\\item 'Landslide'\n\\item 'Mass movement (dry)'\n\\item 'Storm'\n\\item 'Volcanic activity'\n\\item 'Wildfire'\n\\end{enumerate*}\n",
            "text/plain": [
              " [1] Flood                 Storm                 Drought              \n",
              " [4] Landslide             Earthquake            Epidemic             \n",
              " [7] Wildfire              Mass movement (dry)   Extreme temperature  \n",
              "[10] Volcanic activity     Insect infestation    Impact               \n",
              "[13] Animal accident       Glacial lake outburst\n",
              "14 Levels: Animal accident Drought Earthquake Epidemic ... Wildfire"
            ]
          },
          "metadata": {}
        },
        {
          "output_type": "display_data",
          "data": {
            "text/html": [
              "<style>\n",
              ".list-inline {list-style: none; margin:0; padding: 0}\n",
              ".list-inline>li {display: inline-block}\n",
              ".list-inline>li:not(:last-child)::after {content: \"\\00b7\"; padding: 0 .5ex}\n",
              "</style>\n",
              "<ol class=list-inline><li>Hydrological</li><li>Meteorological</li><li>Climatological</li><li>Geophysical</li><li>Biological</li><li>Extra-terrestrial</li></ol>\n",
              "\n",
              "<details>\n",
              "\t<summary style=display:list-item;cursor:pointer>\n",
              "\t\t<strong>Levels</strong>:\n",
              "\t</summary>\n",
              "\t<style>\n",
              "\t.list-inline {list-style: none; margin:0; padding: 0}\n",
              "\t.list-inline>li {display: inline-block}\n",
              "\t.list-inline>li:not(:last-child)::after {content: \"\\00b7\"; padding: 0 .5ex}\n",
              "\t</style>\n",
              "\t<ol class=list-inline><li>'Biological'</li><li>'Climatological'</li><li>'Extra-terrestrial'</li><li>'Geophysical'</li><li>'Hydrological'</li><li>'Meteorological'</li></ol>\n",
              "</details>"
            ],
            "text/markdown": "1. Hydrological\n2. Meteorological\n3. Climatological\n4. Geophysical\n5. Biological\n6. Extra-terrestrial\n\n\n\n**Levels**: 1. 'Biological'\n2. 'Climatological'\n3. 'Extra-terrestrial'\n4. 'Geophysical'\n5. 'Hydrological'\n6. 'Meteorological'\n\n\n",
            "text/latex": "\\begin{enumerate*}\n\\item Hydrological\n\\item Meteorological\n\\item Climatological\n\\item Geophysical\n\\item Biological\n\\item Extra-terrestrial\n\\end{enumerate*}\n\n\\emph{Levels}: \\begin{enumerate*}\n\\item 'Biological'\n\\item 'Climatological'\n\\item 'Extra-terrestrial'\n\\item 'Geophysical'\n\\item 'Hydrological'\n\\item 'Meteorological'\n\\end{enumerate*}\n",
            "text/plain": [
              "[1] Hydrological      Meteorological    Climatological    Geophysical      \n",
              "[5] Biological        Extra-terrestrial\n",
              "6 Levels: Biological Climatological Extra-terrestrial ... Meteorological"
            ]
          },
          "metadata": {}
        }
      ],
      "source": [
        "unique(complete2$Region)\n",
        "unique(complete2$Disaster.Type)\n",
        "unique(complete2$Disaster.Subgroup)"
      ]
    },
    {
      "cell_type": "code",
      "execution_count": 10,
      "metadata": {
        "colab": {
          "base_uri": "https://localhost:8080/"
        },
        "id": "bby5NYBd6oGa",
        "outputId": "e3f2c335-2c48-423c-bb95-24d951afca39"
      },
      "outputs": [
        {
          "output_type": "stream",
          "name": "stderr",
          "text": [
            "Installing package into ‘/usr/local/lib/R/site-library’\n",
            "(as ‘lib’ is unspecified)\n",
            "\n"
          ]
        }
      ],
      "source": [
        "#Encoding factor variables \n",
        "install.packages('fastDummies')\n",
        "library(fastDummies)"
      ]
    },
    {
      "cell_type": "code",
      "execution_count": 11,
      "metadata": {
        "id": "kqXQrKaj8ple"
      },
      "outputs": [],
      "source": [
        "complete2 <- dummy_cols(complete2, select_columns = c('Country', 'Region', 'Disaster.Subgroup'),\n",
        "           remove_selected_columns = TRUE)"
      ]
    },
    {
      "cell_type": "code",
      "execution_count": 12,
      "metadata": {
        "colab": {
          "base_uri": "https://localhost:8080/",
          "height": 323
        },
        "id": "TvX5PoME-S31",
        "outputId": "89f7d15a-9ed0-443a-b25d-f45d3848f5cc"
      },
      "outputs": [
        {
          "output_type": "display_data",
          "data": {
            "text/html": [
              "<table class=\"dataframe\">\n",
              "<caption>A data.frame: 6 × 265</caption>\n",
              "<thead>\n",
              "\t<tr><th></th><th scope=col>Disaster.Type</th><th scope=col>Total.Deaths</th><th scope=col>No.Injured</th><th scope=col>No.Homeless</th><th scope=col>Total.Affected</th><th scope=col>Total.Damages...000.US..</th><th scope=col>Reconstruction.Costs...000.US..</th><th scope=col>Insured.Damages...000.US..</th><th scope=col>Country_Afghanistan</th><th scope=col>Country_Albania</th><th scope=col>⋯</th><th scope=col>Region_Southern Europe</th><th scope=col>Region_Western Africa</th><th scope=col>Region_Western Asia</th><th scope=col>Region_Western Europe</th><th scope=col>Disaster.Subgroup_Biological</th><th scope=col>Disaster.Subgroup_Climatological</th><th scope=col>Disaster.Subgroup_Extra-terrestrial</th><th scope=col>Disaster.Subgroup_Geophysical</th><th scope=col>Disaster.Subgroup_Hydrological</th><th scope=col>Disaster.Subgroup_Meteorological</th></tr>\n",
              "\t<tr><th></th><th scope=col>&lt;fct&gt;</th><th scope=col>&lt;int&gt;</th><th scope=col>&lt;int&gt;</th><th scope=col>&lt;int&gt;</th><th scope=col>&lt;int&gt;</th><th scope=col>&lt;int&gt;</th><th scope=col>&lt;int&gt;</th><th scope=col>&lt;int&gt;</th><th scope=col>&lt;int&gt;</th><th scope=col>&lt;int&gt;</th><th scope=col>⋯</th><th scope=col>&lt;int&gt;</th><th scope=col>&lt;int&gt;</th><th scope=col>&lt;int&gt;</th><th scope=col>&lt;int&gt;</th><th scope=col>&lt;int&gt;</th><th scope=col>&lt;int&gt;</th><th scope=col>&lt;int&gt;</th><th scope=col>&lt;int&gt;</th><th scope=col>&lt;int&gt;</th><th scope=col>&lt;int&gt;</th></tr>\n",
              "</thead>\n",
              "<tbody>\n",
              "\t<tr><th scope=row>1</th><td>Flood</td><td>    36</td><td>5805</td><td> 105500</td><td> 1260000</td><td>25000</td><td> 2450000</td><td> 130000</td><td>0</td><td>0</td><td>⋯</td><td>0</td><td>0</td><td>0</td><td>0</td><td>0</td><td>0</td><td>0</td><td>0</td><td>1</td><td>0</td></tr>\n",
              "\t<tr><th scope=row>2</th><td>Storm</td><td>    13</td><td>  20</td><td>  32000</td><td>     310</td><td>72475</td><td>    1510</td><td> 920000</td><td>0</td><td>0</td><td>⋯</td><td>0</td><td>0</td><td>0</td><td>0</td><td>0</td><td>0</td><td>0</td><td>0</td><td>0</td><td>1</td></tr>\n",
              "\t<tr><th scope=row>3</th><td>Flood</td><td>    12</td><td>   7</td><td>  36000</td><td>     855</td><td>  200</td><td>  194000</td><td> 340000</td><td>0</td><td>0</td><td>⋯</td><td>0</td><td>1</td><td>0</td><td>0</td><td>0</td><td>0</td><td>0</td><td>0</td><td>1</td><td>0</td></tr>\n",
              "\t<tr><th scope=row>4</th><td>Storm</td><td>300000</td><td>  61</td><td> 532898</td><td> 3648000</td><td>86400</td><td> 1600000</td><td>9600000</td><td>0</td><td>0</td><td>⋯</td><td>0</td><td>0</td><td>0</td><td>0</td><td>0</td><td>0</td><td>0</td><td>0</td><td>0</td><td>1</td></tr>\n",
              "\t<tr><th scope=row>5</th><td>Storm</td><td>    17</td><td>   8</td><td>   4237</td><td>     110</td><td> 7300</td><td>    3000</td><td> 475000</td><td>0</td><td>0</td><td>⋯</td><td>0</td><td>0</td><td>0</td><td>0</td><td>0</td><td>0</td><td>0</td><td>0</td><td>0</td><td>1</td></tr>\n",
              "\t<tr><th scope=row>6</th><td>Flood</td><td>     4</td><td>  32</td><td>2000000</td><td>10000000</td><td>25000</td><td>11500000</td><td>  60000</td><td>0</td><td>0</td><td>⋯</td><td>0</td><td>0</td><td>0</td><td>0</td><td>0</td><td>0</td><td>0</td><td>0</td><td>1</td><td>0</td></tr>\n",
              "</tbody>\n",
              "</table>\n"
            ],
            "text/markdown": "\nA data.frame: 6 × 265\n\n| <!--/--> | Disaster.Type &lt;fct&gt; | Total.Deaths &lt;int&gt; | No.Injured &lt;int&gt; | No.Homeless &lt;int&gt; | Total.Affected &lt;int&gt; | Total.Damages...000.US.. &lt;int&gt; | Reconstruction.Costs...000.US.. &lt;int&gt; | Insured.Damages...000.US.. &lt;int&gt; | Country_Afghanistan &lt;int&gt; | Country_Albania &lt;int&gt; | ⋯ ⋯ | Region_Southern Europe &lt;int&gt; | Region_Western Africa &lt;int&gt; | Region_Western Asia &lt;int&gt; | Region_Western Europe &lt;int&gt; | Disaster.Subgroup_Biological &lt;int&gt; | Disaster.Subgroup_Climatological &lt;int&gt; | Disaster.Subgroup_Extra-terrestrial &lt;int&gt; | Disaster.Subgroup_Geophysical &lt;int&gt; | Disaster.Subgroup_Hydrological &lt;int&gt; | Disaster.Subgroup_Meteorological &lt;int&gt; |\n|---|---|---|---|---|---|---|---|---|---|---|---|---|---|---|---|---|---|---|---|---|---|\n| 1 | Flood |     36 | 5805 |  105500 |  1260000 | 25000 |  2450000 |  130000 | 0 | 0 | ⋯ | 0 | 0 | 0 | 0 | 0 | 0 | 0 | 0 | 1 | 0 |\n| 2 | Storm |     13 |   20 |   32000 |      310 | 72475 |     1510 |  920000 | 0 | 0 | ⋯ | 0 | 0 | 0 | 0 | 0 | 0 | 0 | 0 | 0 | 1 |\n| 3 | Flood |     12 |    7 |   36000 |      855 |   200 |   194000 |  340000 | 0 | 0 | ⋯ | 0 | 1 | 0 | 0 | 0 | 0 | 0 | 0 | 1 | 0 |\n| 4 | Storm | 300000 |   61 |  532898 |  3648000 | 86400 |  1600000 | 9600000 | 0 | 0 | ⋯ | 0 | 0 | 0 | 0 | 0 | 0 | 0 | 0 | 0 | 1 |\n| 5 | Storm |     17 |    8 |    4237 |      110 |  7300 |     3000 |  475000 | 0 | 0 | ⋯ | 0 | 0 | 0 | 0 | 0 | 0 | 0 | 0 | 0 | 1 |\n| 6 | Flood |      4 |   32 | 2000000 | 10000000 | 25000 | 11500000 |   60000 | 0 | 0 | ⋯ | 0 | 0 | 0 | 0 | 0 | 0 | 0 | 0 | 1 | 0 |\n\n",
            "text/latex": "A data.frame: 6 × 265\n\\begin{tabular}{r|lllllllllllllllllllll}\n  & Disaster.Type & Total.Deaths & No.Injured & No.Homeless & Total.Affected & Total.Damages...000.US.. & Reconstruction.Costs...000.US.. & Insured.Damages...000.US.. & Country\\_Afghanistan & Country\\_Albania & ⋯ & Region\\_Southern Europe & Region\\_Western Africa & Region\\_Western Asia & Region\\_Western Europe & Disaster.Subgroup\\_Biological & Disaster.Subgroup\\_Climatological & Disaster.Subgroup\\_Extra-terrestrial & Disaster.Subgroup\\_Geophysical & Disaster.Subgroup\\_Hydrological & Disaster.Subgroup\\_Meteorological\\\\\n  & <fct> & <int> & <int> & <int> & <int> & <int> & <int> & <int> & <int> & <int> & ⋯ & <int> & <int> & <int> & <int> & <int> & <int> & <int> & <int> & <int> & <int>\\\\\n\\hline\n\t1 & Flood &     36 & 5805 &  105500 &  1260000 & 25000 &  2450000 &  130000 & 0 & 0 & ⋯ & 0 & 0 & 0 & 0 & 0 & 0 & 0 & 0 & 1 & 0\\\\\n\t2 & Storm &     13 &   20 &   32000 &      310 & 72475 &     1510 &  920000 & 0 & 0 & ⋯ & 0 & 0 & 0 & 0 & 0 & 0 & 0 & 0 & 0 & 1\\\\\n\t3 & Flood &     12 &    7 &   36000 &      855 &   200 &   194000 &  340000 & 0 & 0 & ⋯ & 0 & 1 & 0 & 0 & 0 & 0 & 0 & 0 & 1 & 0\\\\\n\t4 & Storm & 300000 &   61 &  532898 &  3648000 & 86400 &  1600000 & 9600000 & 0 & 0 & ⋯ & 0 & 0 & 0 & 0 & 0 & 0 & 0 & 0 & 0 & 1\\\\\n\t5 & Storm &     17 &    8 &    4237 &      110 &  7300 &     3000 &  475000 & 0 & 0 & ⋯ & 0 & 0 & 0 & 0 & 0 & 0 & 0 & 0 & 0 & 1\\\\\n\t6 & Flood &      4 &   32 & 2000000 & 10000000 & 25000 & 11500000 &   60000 & 0 & 0 & ⋯ & 0 & 0 & 0 & 0 & 0 & 0 & 0 & 0 & 1 & 0\\\\\n\\end{tabular}\n",
            "text/plain": [
              "  Disaster.Type Total.Deaths No.Injured No.Homeless Total.Affected\n",
              "1 Flood             36       5805        105500      1260000      \n",
              "2 Storm             13         20         32000          310      \n",
              "3 Flood             12          7         36000          855      \n",
              "4 Storm         300000         61        532898      3648000      \n",
              "5 Storm             17          8          4237          110      \n",
              "6 Flood              4         32       2000000     10000000      \n",
              "  Total.Damages...000.US.. Reconstruction.Costs...000.US..\n",
              "1 25000                     2450000                       \n",
              "2 72475                        1510                       \n",
              "3   200                      194000                       \n",
              "4 86400                     1600000                       \n",
              "5  7300                        3000                       \n",
              "6 25000                    11500000                       \n",
              "  Insured.Damages...000.US.. Country_Afghanistan Country_Albania ⋯\n",
              "1  130000                    0                   0               ⋯\n",
              "2  920000                    0                   0               ⋯\n",
              "3  340000                    0                   0               ⋯\n",
              "4 9600000                    0                   0               ⋯\n",
              "5  475000                    0                   0               ⋯\n",
              "6   60000                    0                   0               ⋯\n",
              "  Region_Southern Europe Region_Western Africa Region_Western Asia\n",
              "1 0                      0                     0                  \n",
              "2 0                      0                     0                  \n",
              "3 0                      1                     0                  \n",
              "4 0                      0                     0                  \n",
              "5 0                      0                     0                  \n",
              "6 0                      0                     0                  \n",
              "  Region_Western Europe Disaster.Subgroup_Biological\n",
              "1 0                     0                           \n",
              "2 0                     0                           \n",
              "3 0                     0                           \n",
              "4 0                     0                           \n",
              "5 0                     0                           \n",
              "6 0                     0                           \n",
              "  Disaster.Subgroup_Climatological Disaster.Subgroup_Extra-terrestrial\n",
              "1 0                                0                                  \n",
              "2 0                                0                                  \n",
              "3 0                                0                                  \n",
              "4 0                                0                                  \n",
              "5 0                                0                                  \n",
              "6 0                                0                                  \n",
              "  Disaster.Subgroup_Geophysical Disaster.Subgroup_Hydrological\n",
              "1 0                             1                             \n",
              "2 0                             0                             \n",
              "3 0                             1                             \n",
              "4 0                             0                             \n",
              "5 0                             0                             \n",
              "6 0                             1                             \n",
              "  Disaster.Subgroup_Meteorological\n",
              "1 0                               \n",
              "2 1                               \n",
              "3 0                               \n",
              "4 1                               \n",
              "5 1                               \n",
              "6 0                               "
            ]
          },
          "metadata": {}
        }
      ],
      "source": [
        "head(complete2)"
      ]
    },
    {
      "cell_type": "code",
      "execution_count": 13,
      "metadata": {
        "id": "sX1zXZVG1WPl"
      },
      "outputs": [],
      "source": [
        "train_index <- sample(1:nrow(complete2), 0.7 * nrow(complete2))\n",
        "train.set <- complete2[train_index,]\n",
        "test.set  <- complete2[-train_index,]\n",
        "train.set_new <- train.set[-1]\n",
        "test.set_new <- test.set[-1]\n",
        "cl <- train.set\n",
        "## ^^^ Removed Disaster type "
      ]
    },
    {
      "cell_type": "code",
      "execution_count": 14,
      "metadata": {
        "id": "CoGBdFyy1yc-"
      },
      "outputs": [],
      "source": [
        "dis_train_labels <- train.set$Disaster.Type\n",
        "dis_test_labels <- test.set$Disaster.Type\n",
        "cl <- dis_train_labels\n",
        "## ^^^ Disaster type is the label now"
      ]
    },
    {
      "cell_type": "code",
      "execution_count": 15,
      "metadata": {
        "colab": {
          "base_uri": "https://localhost:8080/",
          "height": 104
        },
        "id": "LddN28AX-j_o",
        "outputId": "462f4f97-ba4d-47df-e93e-19ac155540a9"
      },
      "outputs": [
        {
          "output_type": "display_data",
          "data": {
            "text/html": [
              "<style>\n",
              ".list-inline {list-style: none; margin:0; padding: 0}\n",
              ".list-inline>li {display: inline-block}\n",
              ".list-inline>li:not(:last-child)::after {content: \"\\00b7\"; padding: 0 .5ex}\n",
              "</style>\n",
              "<ol class=list-inline><li>10250</li><li>265</li></ol>\n"
            ],
            "text/markdown": "1. 10250\n2. 265\n\n\n",
            "text/latex": "\\begin{enumerate*}\n\\item 10250\n\\item 265\n\\end{enumerate*}\n",
            "text/plain": [
              "[1] 10250   265"
            ]
          },
          "metadata": {}
        },
        {
          "output_type": "display_data",
          "data": {
            "text/html": [
              "<style>\n",
              ".list-inline {list-style: none; margin:0; padding: 0}\n",
              ".list-inline>li {display: inline-block}\n",
              ".list-inline>li:not(:last-child)::after {content: \"\\00b7\"; padding: 0 .5ex}\n",
              "</style>\n",
              "<ol class=list-inline><li>4394</li><li>265</li></ol>\n"
            ],
            "text/markdown": "1. 4394\n2. 265\n\n\n",
            "text/latex": "\\begin{enumerate*}\n\\item 4394\n\\item 265\n\\end{enumerate*}\n",
            "text/plain": [
              "[1] 4394  265"
            ]
          },
          "metadata": {}
        },
        {
          "output_type": "display_data",
          "data": {
            "text/html": [
              "<style>\n",
              ".list-inline {list-style: none; margin:0; padding: 0}\n",
              ".list-inline>li {display: inline-block}\n",
              ".list-inline>li:not(:last-child)::after {content: \"\\00b7\"; padding: 0 .5ex}\n",
              "</style>\n",
              "<ol class=list-inline><li>10250</li><li>264</li></ol>\n"
            ],
            "text/markdown": "1. 10250\n2. 264\n\n\n",
            "text/latex": "\\begin{enumerate*}\n\\item 10250\n\\item 264\n\\end{enumerate*}\n",
            "text/plain": [
              "[1] 10250   264"
            ]
          },
          "metadata": {}
        },
        {
          "output_type": "display_data",
          "data": {
            "text/html": [
              "<style>\n",
              ".list-inline {list-style: none; margin:0; padding: 0}\n",
              ".list-inline>li {display: inline-block}\n",
              ".list-inline>li:not(:last-child)::after {content: \"\\00b7\"; padding: 0 .5ex}\n",
              "</style>\n",
              "<ol class=list-inline><li>4394</li><li>264</li></ol>\n"
            ],
            "text/markdown": "1. 4394\n2. 264\n\n\n",
            "text/latex": "\\begin{enumerate*}\n\\item 4394\n\\item 264\n\\end{enumerate*}\n",
            "text/plain": [
              "[1] 4394  264"
            ]
          },
          "metadata": {}
        },
        {
          "output_type": "display_data",
          "data": {
            "text/plain": [
              "NULL"
            ]
          },
          "metadata": {}
        }
      ],
      "source": [
        "dim(train.set)\n",
        "dim(test.set)\n",
        "dim(train.set_new)\n",
        "dim(test.set_new)\n",
        "dim(cl)"
      ]
    },
    {
      "cell_type": "code",
      "execution_count": 16,
      "metadata": {
        "colab": {
          "base_uri": "https://localhost:8080/",
          "height": 51
        },
        "id": "VABkHp8X15Tf",
        "outputId": "0cc68939-039e-4109-ab87-cbaf5fba93b0"
      },
      "outputs": [
        {
          "output_type": "display_data",
          "data": {
            "text/html": [
              "<style>\n",
              ".list-inline {list-style: none; margin:0; padding: 0}\n",
              ".list-inline>li {display: inline-block}\n",
              ".list-inline>li:not(:last-child)::after {content: \"\\00b7\"; padding: 0 .5ex}\n",
              "</style>\n",
              "<ol class=list-inline><li>Flood</li><li>Flood</li><li>Flood</li><li>Earthquake</li><li>Extreme temperature </li><li>Storm</li></ol>\n",
              "\n",
              "<details>\n",
              "\t<summary style=display:list-item;cursor:pointer>\n",
              "\t\t<strong>Levels</strong>:\n",
              "\t</summary>\n",
              "\t<style>\n",
              "\t.list-inline {list-style: none; margin:0; padding: 0}\n",
              "\t.list-inline>li {display: inline-block}\n",
              "\t.list-inline>li:not(:last-child)::after {content: \"\\00b7\"; padding: 0 .5ex}\n",
              "\t</style>\n",
              "\t<ol class=list-inline><li>'Animal accident'</li><li>'Drought'</li><li>'Earthquake'</li><li>'Epidemic'</li><li>'Extreme temperature '</li><li>'Flood'</li><li>'Glacial lake outburst'</li><li>'Impact'</li><li>'Insect infestation'</li><li>'Landslide'</li><li>'Mass movement (dry)'</li><li>'Storm'</li><li>'Volcanic activity'</li><li>'Wildfire'</li></ol>\n",
              "</details>"
            ],
            "text/markdown": "1. Flood\n2. Flood\n3. Flood\n4. Earthquake\n5. Extreme temperature \n6. Storm\n\n\n\n**Levels**: 1. 'Animal accident'\n2. 'Drought'\n3. 'Earthquake'\n4. 'Epidemic'\n5. 'Extreme temperature '\n6. 'Flood'\n7. 'Glacial lake outburst'\n8. 'Impact'\n9. 'Insect infestation'\n10. 'Landslide'\n11. 'Mass movement (dry)'\n12. 'Storm'\n13. 'Volcanic activity'\n14. 'Wildfire'\n\n\n",
            "text/latex": "\\begin{enumerate*}\n\\item Flood\n\\item Flood\n\\item Flood\n\\item Earthquake\n\\item Extreme temperature \n\\item Storm\n\\end{enumerate*}\n\n\\emph{Levels}: \\begin{enumerate*}\n\\item 'Animal accident'\n\\item 'Drought'\n\\item 'Earthquake'\n\\item 'Epidemic'\n\\item 'Extreme temperature '\n\\item 'Flood'\n\\item 'Glacial lake outburst'\n\\item 'Impact'\n\\item 'Insect infestation'\n\\item 'Landslide'\n\\item 'Mass movement (dry)'\n\\item 'Storm'\n\\item 'Volcanic activity'\n\\item 'Wildfire'\n\\end{enumerate*}\n",
            "text/plain": [
              "[1] Flood                Flood                Flood               \n",
              "[4] Earthquake           Extreme temperature  Storm               \n",
              "14 Levels: Animal accident Drought Earthquake Epidemic ... Wildfire"
            ]
          },
          "metadata": {}
        }
      ],
      "source": [
        "library(class)\n",
        "suppressWarnings(dis_knn_prediction <- knn(train = train.set_new, test = test.set_new, cl= dis_train_labels, k =4 ))\n",
        "#k=4\n",
        "head(dis_knn_prediction)\n",
        "\n",
        "##K=4 predictcs storms more than any other natural disaster "
      ]
    },
    {
      "cell_type": "code",
      "source": [
        "install.packages('gmodels')\n"
      ],
      "metadata": {
        "colab": {
          "base_uri": "https://localhost:8080/"
        },
        "id": "Vr8R5xhGiJwU",
        "outputId": "da36d132-b782-4cac-a683-add8365e317e"
      },
      "execution_count": 17,
      "outputs": [
        {
          "output_type": "stream",
          "name": "stderr",
          "text": [
            "Installing package into ‘/usr/local/lib/R/site-library’\n",
            "(as ‘lib’ is unspecified)\n",
            "\n"
          ]
        }
      ]
    },
    {
      "cell_type": "code",
      "source": [
        "library(gmodels)\n"
      ],
      "metadata": {
        "id": "1aTheichiTS3"
      },
      "execution_count": 18,
      "outputs": []
    },
    {
      "cell_type": "code",
      "source": [
        "cm<-CrossTable(test.set$Disaster.Type,dis_knn_prediction)"
      ],
      "metadata": {
        "colab": {
          "base_uri": "https://localhost:8080/"
        },
        "id": "VPv7-x_kiYhz",
        "outputId": "689df7e1-c6c4-48f2-86f0-c075c21fd2e7"
      },
      "execution_count": 25,
      "outputs": [
        {
          "output_type": "stream",
          "name": "stdout",
          "text": [
            "\n",
            " \n",
            "   Cell Contents\n",
            "|-------------------------|\n",
            "|                       N |\n",
            "| Chi-square contribution |\n",
            "|           N / Row Total |\n",
            "|           N / Col Total |\n",
            "|         N / Table Total |\n",
            "|-------------------------|\n",
            "\n",
            " \n",
            "Total Observations in Table:  4394 \n",
            "\n",
            " \n",
            "                       | dis_knn_prediction \n",
            "test.set$Disaster.Type |              Drought |           Earthquake |             Epidemic | Extreme temperature  |                Flood |   Insect infestation |            Landslide |  Mass movement (dry) |                Storm |    Volcanic activity |             Wildfire |            Row Total | \n",
            "-----------------------|----------------------|----------------------|----------------------|----------------------|----------------------|----------------------|----------------------|----------------------|----------------------|----------------------|----------------------|----------------------|\n",
            "       Animal accident |                    0 |                    1 |                    0 |                    0 |                    0 |                    0 |                    0 |                    0 |                    0 |                    0 |                    0 |                    1 | \n",
            "                       |                0.035 |               16.363 |                0.083 |                0.022 |                0.447 |                0.004 |                0.031 |                0.000 |                0.298 |                0.007 |                0.018 |                      | \n",
            "                       |                0.000 |                1.000 |                0.000 |                0.000 |                0.000 |                0.000 |                0.000 |                0.000 |                0.000 |                0.000 |                0.000 |                0.000 | \n",
            "                       |                0.000 |                0.004 |                0.000 |                0.000 |                0.000 |                0.000 |                0.000 |                0.000 |                0.000 |                0.000 |                0.000 |                      | \n",
            "                       |                0.000 |                0.000 |                0.000 |                0.000 |                0.000 |                0.000 |                0.000 |                0.000 |                0.000 |                0.000 |                0.000 |                      | \n",
            "-----------------------|----------------------|----------------------|----------------------|----------------------|----------------------|----------------------|----------------------|----------------------|----------------------|----------------------|----------------------|----------------------|\n",
            "               Drought |                   19 |                   10 |                   11 |                    6 |                  101 |                    1 |                    3 |                    0 |                   66 |                    0 |                    4 |                  221 | \n",
            "                       |               16.607 |                0.355 |                2.917 |                0.233 |                0.055 |                0.025 |                2.197 |                0.101 |                0.000 |                1.509 |                0.000 |                      | \n",
            "                       |                0.086 |                0.045 |                0.050 |                0.027 |                0.457 |                0.005 |                0.014 |                0.000 |                0.299 |                0.000 |                0.018 |                0.050 | \n",
            "                       |                0.124 |                0.042 |                0.030 |                0.061 |                0.051 |                0.059 |                0.022 |                0.000 |                0.050 |                0.000 |                0.050 |                      | \n",
            "                       |                0.004 |                0.002 |                0.003 |                0.001 |                0.023 |                0.000 |                0.001 |                0.000 |                0.015 |                0.000 |                0.001 |                      | \n",
            "-----------------------|----------------------|----------------------|----------------------|----------------------|----------------------|----------------------|----------------------|----------------------|----------------------|----------------------|----------------------|----------------------|\n",
            "            Earthquake |                    6 |                   21 |                   42 |                    4 |                  152 |                    2 |                    7 |                    0 |                   85 |                    2 |                    3 |                  324 | \n",
            "                       |                2.473 |                0.617 |                8.562 |                1.440 |                0.371 |                0.445 |                0.953 |                0.147 |                1.409 |                0.020 |                1.425 |                      | \n",
            "                       |                0.019 |                0.065 |                0.130 |                0.012 |                0.469 |                0.006 |                0.022 |                0.000 |                0.262 |                0.006 |                0.009 |                0.074 | \n",
            "                       |                0.039 |                0.087 |                0.115 |                0.041 |                0.077 |                0.118 |                0.051 |                0.000 |                0.065 |                0.067 |                0.037 |                      | \n",
            "                       |                0.001 |                0.005 |                0.010 |                0.001 |                0.035 |                0.000 |                0.002 |                0.000 |                0.019 |                0.000 |                0.001 |                      | \n",
            "-----------------------|----------------------|----------------------|----------------------|----------------------|----------------------|----------------------|----------------------|----------------------|----------------------|----------------------|----------------------|----------------------|\n",
            "              Epidemic |                    7 |                   26 |                   43 |                   10 |                  188 |                    2 |                   23 |                    0 |                  130 |                    2 |                   11 |                  442 | \n",
            "                       |                4.574 |                0.143 |                1.113 |                0.002 |                0.444 |                0.049 |                6.167 |                0.201 |                0.027 |                0.343 |                1.083 |                      | \n",
            "                       |                0.016 |                0.059 |                0.097 |                0.023 |                0.425 |                0.005 |                0.052 |                0.000 |                0.294 |                0.005 |                0.025 |                0.101 | \n",
            "                       |                0.046 |                0.108 |                0.118 |                0.102 |                0.096 |                0.118 |                0.168 |                0.000 |                0.099 |                0.067 |                0.138 |                      | \n",
            "                       |                0.002 |                0.006 |                0.010 |                0.002 |                0.043 |                0.000 |                0.005 |                0.000 |                0.030 |                0.000 |                0.003 |                      | \n",
            "-----------------------|----------------------|----------------------|----------------------|----------------------|----------------------|----------------------|----------------------|----------------------|----------------------|----------------------|----------------------|----------------------|\n",
            "  Extreme temperature  |                    7 |                    8 |                   14 |                    4 |                   67 |                    0 |                    3 |                    1 |                   48 |                    0 |                    1 |                  153 | \n",
            "                       |                0.525 |                0.015 |                0.139 |                0.101 |                0.025 |                0.592 |                0.657 |               12.429 |                0.121 |                1.045 |                1.145 |                      | \n",
            "                       |                0.046 |                0.052 |                0.092 |                0.026 |                0.438 |                0.000 |                0.020 |                0.007 |                0.314 |                0.000 |                0.007 |                0.035 | \n",
            "                       |                0.046 |                0.033 |                0.038 |                0.041 |                0.034 |                0.000 |                0.022 |                0.500 |                0.037 |                0.000 |                0.013 |                      | \n",
            "                       |                0.002 |                0.002 |                0.003 |                0.001 |                0.015 |                0.000 |                0.001 |                0.000 |                0.011 |                0.000 |                0.000 |                      | \n",
            "-----------------------|----------------------|----------------------|----------------------|----------------------|----------------------|----------------------|----------------------|----------------------|----------------------|----------------------|----------------------|----------------------|\n",
            "                 Flood |                   66 |                   81 |                  125 |                   39 |                  752 |                    8 |                   46 |                    0 |                  463 |                    9 |                   38 |                 1627 | \n",
            "                       |                1.542 |                0.696 |                0.710 |                0.203 |                0.896 |                0.462 |                0.441 |                0.741 |                1.037 |                0.400 |                2.369 |                      | \n",
            "                       |                0.041 |                0.050 |                0.077 |                0.024 |                0.462 |                0.005 |                0.028 |                0.000 |                0.285 |                0.006 |                0.023 |                0.370 | \n",
            "                       |                0.431 |                0.338 |                0.343 |                0.398 |                0.383 |                0.471 |                0.336 |                0.000 |                0.353 |                0.300 |                0.475 |                      | \n",
            "                       |                0.015 |                0.018 |                0.028 |                0.009 |                0.171 |                0.002 |                0.010 |                0.000 |                0.105 |                0.002 |                0.009 |                      | \n",
            "-----------------------|----------------------|----------------------|----------------------|----------------------|----------------------|----------------------|----------------------|----------------------|----------------------|----------------------|----------------------|----------------------|\n",
            "                Impact |                    0 |                    0 |                    0 |                    0 |                    0 |                    0 |                    0 |                    0 |                    1 |                    0 |                    0 |                    1 | \n",
            "                       |                0.035 |                0.055 |                0.083 |                0.022 |                0.447 |                0.004 |                0.031 |                0.000 |                1.650 |                0.007 |                0.018 |                      | \n",
            "                       |                0.000 |                0.000 |                0.000 |                0.000 |                0.000 |                0.000 |                0.000 |                0.000 |                1.000 |                0.000 |                0.000 |                0.000 | \n",
            "                       |                0.000 |                0.000 |                0.000 |                0.000 |                0.000 |                0.000 |                0.000 |                0.000 |                0.001 |                0.000 |                0.000 |                      | \n",
            "                       |                0.000 |                0.000 |                0.000 |                0.000 |                0.000 |                0.000 |                0.000 |                0.000 |                0.000 |                0.000 |                0.000 |                      | \n",
            "-----------------------|----------------------|----------------------|----------------------|----------------------|----------------------|----------------------|----------------------|----------------------|----------------------|----------------------|----------------------|----------------------|\n",
            "    Insect infestation |                    0 |                    1 |                    1 |                    0 |                   12 |                    0 |                    1 |                    0 |                    6 |                    0 |                    2 |                   23 | \n",
            "                       |                0.801 |                0.052 |                0.430 |                0.513 |                0.291 |                0.089 |                0.112 |                0.010 |                0.108 |                0.157 |                5.971 |                      | \n",
            "                       |                0.000 |                0.043 |                0.043 |                0.000 |                0.522 |                0.000 |                0.043 |                0.000 |                0.261 |                0.000 |                0.087 |                0.005 | \n",
            "                       |                0.000 |                0.004 |                0.003 |                0.000 |                0.006 |                0.000 |                0.007 |                0.000 |                0.005 |                0.000 |                0.025 |                      | \n",
            "                       |                0.000 |                0.000 |                0.000 |                0.000 |                0.003 |                0.000 |                0.000 |                0.000 |                0.001 |                0.000 |                0.000 |                      | \n",
            "-----------------------|----------------------|----------------------|----------------------|----------------------|----------------------|----------------------|----------------------|----------------------|----------------------|----------------------|----------------------|----------------------|\n",
            "             Landslide |                    4 |                   18 |                   17 |                    2 |                   96 |                    0 |                   12 |                    0 |                   58 |                    4 |                    1 |                  212 | \n",
            "                       |                1.549 |                3.560 |                0.018 |                1.574 |                0.019 |                0.820 |                4.395 |                0.096 |                0.436 |                4.502 |                2.119 |                      | \n",
            "                       |                0.019 |                0.085 |                0.080 |                0.009 |                0.453 |                0.000 |                0.057 |                0.000 |                0.274 |                0.019 |                0.005 |                0.048 | \n",
            "                       |                0.026 |                0.075 |                0.047 |                0.020 |                0.049 |                0.000 |                0.088 |                0.000 |                0.044 |                0.133 |                0.013 |                      | \n",
            "                       |                0.001 |                0.004 |                0.004 |                0.000 |                0.022 |                0.000 |                0.003 |                0.000 |                0.013 |                0.001 |                0.000 |                      | \n",
            "-----------------------|----------------------|----------------------|----------------------|----------------------|----------------------|----------------------|----------------------|----------------------|----------------------|----------------------|----------------------|----------------------|\n",
            "   Mass movement (dry) |                    0 |                    0 |                    1 |                    1 |                    5 |                    0 |                    1 |                    0 |                    3 |                    0 |                    1 |                   12 | \n",
            "                       |                0.418 |                0.655 |                0.000 |                2.004 |                0.024 |                0.046 |                1.047 |                0.005 |                0.094 |                0.082 |                2.796 |                      | \n",
            "                       |                0.000 |                0.000 |                0.083 |                0.083 |                0.417 |                0.000 |                0.083 |                0.000 |                0.250 |                0.000 |                0.083 |                0.003 | \n",
            "                       |                0.000 |                0.000 |                0.003 |                0.010 |                0.003 |                0.000 |                0.007 |                0.000 |                0.002 |                0.000 |                0.013 |                      | \n",
            "                       |                0.000 |                0.000 |                0.000 |                0.000 |                0.001 |                0.000 |                0.000 |                0.000 |                0.001 |                0.000 |                0.000 |                      | \n",
            "-----------------------|----------------------|----------------------|----------------------|----------------------|----------------------|----------------------|----------------------|----------------------|----------------------|----------------------|----------------------|----------------------|\n",
            "                 Storm |                   41 |                   60 |                   91 |                   26 |                  505 |                    2 |                   34 |                    1 |                  399 |                   10 |                   15 |                 1184 | \n",
            "                       |                0.001 |                0.337 |                0.511 |                0.006 |                1.060 |                1.454 |                0.230 |                0.394 |                5.922 |                0.454 |                1.994 |                      | \n",
            "                       |                0.035 |                0.051 |                0.077 |                0.022 |                0.427 |                0.002 |                0.029 |                0.001 |                0.337 |                0.008 |                0.013 |                0.269 | \n",
            "                       |                0.268 |                0.250 |                0.250 |                0.265 |                0.257 |                0.118 |                0.248 |                0.500 |                0.304 |                0.333 |                0.188 |                      | \n",
            "                       |                0.009 |                0.014 |                0.021 |                0.006 |                0.115 |                0.000 |                0.008 |                0.000 |                0.091 |                0.002 |                0.003 |                      | \n",
            "-----------------------|----------------------|----------------------|----------------------|----------------------|----------------------|----------------------|----------------------|----------------------|----------------------|----------------------|----------------------|----------------------|\n",
            "     Volcanic activity |                    2 |                    6 |                    5 |                    1 |                   27 |                    2 |                    3 |                    0 |                   15 |                    0 |                    0 |                   61 | \n",
            "                       |                0.007 |                2.137 |                0.001 |                0.096 |                0.002 |               13.185 |                0.634 |                0.028 |                0.563 |                0.416 |                1.111 |                      | \n",
            "                       |                0.033 |                0.098 |                0.082 |                0.016 |                0.443 |                0.033 |                0.049 |                0.000 |                0.246 |                0.000 |                0.000 |                0.014 | \n",
            "                       |                0.013 |                0.025 |                0.014 |                0.010 |                0.014 |                0.118 |                0.022 |                0.000 |                0.011 |                0.000 |                0.000 |                      | \n",
            "                       |                0.000 |                0.001 |                0.001 |                0.000 |                0.006 |                0.000 |                0.001 |                0.000 |                0.003 |                0.000 |                0.000 |                      | \n",
            "-----------------------|----------------------|----------------------|----------------------|----------------------|----------------------|----------------------|----------------------|----------------------|----------------------|----------------------|----------------------|----------------------|\n",
            "              Wildfire |                    1 |                    8 |                   14 |                    5 |                   57 |                    0 |                    4 |                    0 |                   37 |                    3 |                    4 |                  133 | \n",
            "                       |                2.847 |                0.074 |                0.807 |                1.394 |                0.096 |                0.515 |                0.005 |                0.061 |                0.181 |                4.819 |                1.029 |                      | \n",
            "                       |                0.008 |                0.060 |                0.105 |                0.038 |                0.429 |                0.000 |                0.030 |                0.000 |                0.278 |                0.023 |                0.030 |                0.030 | \n",
            "                       |                0.007 |                0.033 |                0.038 |                0.051 |                0.029 |                0.000 |                0.029 |                0.000 |                0.028 |                0.100 |                0.050 |                      | \n",
            "                       |                0.000 |                0.002 |                0.003 |                0.001 |                0.013 |                0.000 |                0.001 |                0.000 |                0.008 |                0.001 |                0.001 |                      | \n",
            "-----------------------|----------------------|----------------------|----------------------|----------------------|----------------------|----------------------|----------------------|----------------------|----------------------|----------------------|----------------------|----------------------|\n",
            "          Column Total |                  153 |                  240 |                  364 |                   98 |                 1962 |                   17 |                  137 |                    2 |                 1311 |                   30 |                   80 |                 4394 | \n",
            "                       |                0.035 |                0.055 |                0.083 |                0.022 |                0.447 |                0.004 |                0.031 |                0.000 |                0.298 |                0.007 |                0.018 |                      | \n",
            "-----------------------|----------------------|----------------------|----------------------|----------------------|----------------------|----------------------|----------------------|----------------------|----------------------|----------------------|----------------------|----------------------|\n",
            "\n",
            " \n"
          ]
        }
      ]
    }
  ],
  "metadata": {
    "colab": {
      "name": "KNN.ipynb",
      "provenance": [],
      "authorship_tag": "ABX9TyOGXdvqLhBAk+7yLVE5S98H",
      "include_colab_link": true
    },
    "kernelspec": {
      "display_name": "R",
      "name": "ir"
    },
    "language_info": {
      "name": "R"
    }
  },
  "nbformat": 4,
  "nbformat_minor": 0
}