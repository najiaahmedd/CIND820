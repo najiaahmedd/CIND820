{
  "nbformat": 4,
  "nbformat_minor": 0,
  "metadata": {
    "colab": {
      "name": "CIND20ipynb",
      "provenance": [],
      "authorship_tag": "ABX9TyNwweuBvoz6JDJANr6R4UMC",
      "include_colab_link": true
    },
    "kernelspec": {
      "name": "ir",
      "display_name": "R"
    },
    "language_info": {
      "name": "R"
    }
  },
  "cells": [
    {
      "cell_type": "markdown",
      "metadata": {
        "id": "view-in-github",
        "colab_type": "text"
      },
      "source": [
        "<a href=\"https://colab.research.google.com/github/najiaahmedd/CIND820/blob/main/CIND20ipynb.ipynb\" target=\"_parent\"><img src=\"https://colab.research.google.com/assets/colab-badge.svg\" alt=\"Open In Colab\"/></a>"
      ]
    },
    {
      "cell_type": "code",
      "source": [
        "projectdata<-read.csv(\"projectdata.csv\")\n",
        "head(projectdata)"
      ],
      "metadata": {
        "colab": {
          "base_uri": "https://localhost:8080/",
          "height": 341
        },
        "id": "Yt3e8KID4BwB",
        "outputId": "109222dd-bcda-4029-b75f-4860cc46e484"
      },
      "execution_count": 7,
      "outputs": [
        {
          "output_type": "display_data",
          "data": {
            "text/plain": [
              "  Year Seq  Glide Disaster.Group Disaster.Subgroup Disaster.Type      \n",
              "1 1900 9002       Natural        Climatological    Drought            \n",
              "2 1900 9001       Natural        Climatological    Drought            \n",
              "3 1902   12       Natural        Geophysical       Earthquake         \n",
              "4 1902    3       Natural        Geophysical       Volcanic activity  \n",
              "5 1902   10       Natural        Geophysical       Volcanic activity  \n",
              "6 1903    6       Natural        Geophysical       Mass movement (dry)\n",
              "  Disaster.Subtype Disaster.Subsubtype Event.Name  Country    ⋯ No.Affected\n",
              "1 Drought                                          Cabo Verde ⋯ NA         \n",
              "2 Drought                                          India      ⋯ NA         \n",
              "3 Ground movement                                  Guatemala  ⋯ NA         \n",
              "4 Ash fall                             Santa Maria Guatemala  ⋯ NA         \n",
              "5 Ash fall                             Santa Maria Guatemala  ⋯ NA         \n",
              "6 Rockfall                                         Canada     ⋯ NA         \n",
              "  No.Homeless Total.Affected Insured.Damages...000.US..\n",
              "1 NA          NA             NA                        \n",
              "2 NA          NA             NA                        \n",
              "3 NA          NA             NA                        \n",
              "4 NA          NA             NA                        \n",
              "5 NA          NA             NA                        \n",
              "6 NA          23             NA                        \n",
              "  Total.Damages...000.US.. CPI      Adm.Level Admin1.Code Admin2.Code\n",
              "1    NA                    3.221647                                  \n",
              "2    NA                    3.221647                                  \n",
              "3 25000                    3.350513                                  \n",
              "4    NA                    3.350513                                  \n",
              "5    NA                    3.350513                                  \n",
              "6    NA                    3.479379                                  \n",
              "  Geo.Locations\n",
              "1              \n",
              "2              \n",
              "3              \n",
              "4              \n",
              "5              \n",
              "6              "
            ],
            "text/latex": "A data.frame: 6 × 45\n\\begin{tabular}{r|lllllllllllllllllllll}\n  & Year & Seq & Glide & Disaster.Group & Disaster.Subgroup & Disaster.Type & Disaster.Subtype & Disaster.Subsubtype & Event.Name & Country & ⋯ & No.Affected & No.Homeless & Total.Affected & Insured.Damages...000.US.. & Total.Damages...000.US.. & CPI & Adm.Level & Admin1.Code & Admin2.Code & Geo.Locations\\\\\n  & <int> & <int> & <chr> & <chr> & <chr> & <chr> & <chr> & <chr> & <chr> & <chr> & ⋯ & <int> & <int> & <int> & <int> & <int> & <dbl> & <chr> & <chr> & <chr> & <chr>\\\\\n\\hline\n\t1 & 1900 & 9002 &  & Natural & Climatological & Drought             & Drought         &  &             & Cabo Verde & ⋯ & NA & NA & NA & NA &    NA & 3.221647 &  &  &  & \\\\\n\t2 & 1900 & 9001 &  & Natural & Climatological & Drought             & Drought         &  &             & India      & ⋯ & NA & NA & NA & NA &    NA & 3.221647 &  &  &  & \\\\\n\t3 & 1902 &   12 &  & Natural & Geophysical    & Earthquake          & Ground movement &  &             & Guatemala  & ⋯ & NA & NA & NA & NA & 25000 & 3.350513 &  &  &  & \\\\\n\t4 & 1902 &    3 &  & Natural & Geophysical    & Volcanic activity   & Ash fall        &  & Santa Maria & Guatemala  & ⋯ & NA & NA & NA & NA &    NA & 3.350513 &  &  &  & \\\\\n\t5 & 1902 &   10 &  & Natural & Geophysical    & Volcanic activity   & Ash fall        &  & Santa Maria & Guatemala  & ⋯ & NA & NA & NA & NA &    NA & 3.350513 &  &  &  & \\\\\n\t6 & 1903 &    6 &  & Natural & Geophysical    & Mass movement (dry) & Rockfall        &  &             & Canada     & ⋯ & NA & NA & 23 & NA &    NA & 3.479379 &  &  &  & \\\\\n\\end{tabular}\n",
            "text/markdown": "\nA data.frame: 6 × 45\n\n| <!--/--> | Year &lt;int&gt; | Seq &lt;int&gt; | Glide &lt;chr&gt; | Disaster.Group &lt;chr&gt; | Disaster.Subgroup &lt;chr&gt; | Disaster.Type &lt;chr&gt; | Disaster.Subtype &lt;chr&gt; | Disaster.Subsubtype &lt;chr&gt; | Event.Name &lt;chr&gt; | Country &lt;chr&gt; | ⋯ ⋯ | No.Affected &lt;int&gt; | No.Homeless &lt;int&gt; | Total.Affected &lt;int&gt; | Insured.Damages...000.US.. &lt;int&gt; | Total.Damages...000.US.. &lt;int&gt; | CPI &lt;dbl&gt; | Adm.Level &lt;chr&gt; | Admin1.Code &lt;chr&gt; | Admin2.Code &lt;chr&gt; | Geo.Locations &lt;chr&gt; |\n|---|---|---|---|---|---|---|---|---|---|---|---|---|---|---|---|---|---|---|---|---|---|\n| 1 | 1900 | 9002 | <!----> | Natural | Climatological | Drought             | Drought         | <!----> | <!----> | Cabo Verde | ⋯ | NA | NA | NA | NA |    NA | 3.221647 | <!----> | <!----> | <!----> | <!----> |\n| 2 | 1900 | 9001 | <!----> | Natural | Climatological | Drought             | Drought         | <!----> | <!----> | India      | ⋯ | NA | NA | NA | NA |    NA | 3.221647 | <!----> | <!----> | <!----> | <!----> |\n| 3 | 1902 |   12 | <!----> | Natural | Geophysical    | Earthquake          | Ground movement | <!----> | <!----> | Guatemala  | ⋯ | NA | NA | NA | NA | 25000 | 3.350513 | <!----> | <!----> | <!----> | <!----> |\n| 4 | 1902 |    3 | <!----> | Natural | Geophysical    | Volcanic activity   | Ash fall        | <!----> | Santa Maria | Guatemala  | ⋯ | NA | NA | NA | NA |    NA | 3.350513 | <!----> | <!----> | <!----> | <!----> |\n| 5 | 1902 |   10 | <!----> | Natural | Geophysical    | Volcanic activity   | Ash fall        | <!----> | Santa Maria | Guatemala  | ⋯ | NA | NA | NA | NA |    NA | 3.350513 | <!----> | <!----> | <!----> | <!----> |\n| 6 | 1903 |    6 | <!----> | Natural | Geophysical    | Mass movement (dry) | Rockfall        | <!----> | <!----> | Canada     | ⋯ | NA | NA | 23 | NA |    NA | 3.479379 | <!----> | <!----> | <!----> | <!----> |\n\n",
            "text/html": [
              "<table class=\"dataframe\">\n",
              "<caption>A data.frame: 6 × 45</caption>\n",
              "<thead>\n",
              "\t<tr><th></th><th scope=col>Year</th><th scope=col>Seq</th><th scope=col>Glide</th><th scope=col>Disaster.Group</th><th scope=col>Disaster.Subgroup</th><th scope=col>Disaster.Type</th><th scope=col>Disaster.Subtype</th><th scope=col>Disaster.Subsubtype</th><th scope=col>Event.Name</th><th scope=col>Country</th><th scope=col>⋯</th><th scope=col>No.Affected</th><th scope=col>No.Homeless</th><th scope=col>Total.Affected</th><th scope=col>Insured.Damages...000.US..</th><th scope=col>Total.Damages...000.US..</th><th scope=col>CPI</th><th scope=col>Adm.Level</th><th scope=col>Admin1.Code</th><th scope=col>Admin2.Code</th><th scope=col>Geo.Locations</th></tr>\n",
              "\t<tr><th></th><th scope=col>&lt;int&gt;</th><th scope=col>&lt;int&gt;</th><th scope=col>&lt;chr&gt;</th><th scope=col>&lt;chr&gt;</th><th scope=col>&lt;chr&gt;</th><th scope=col>&lt;chr&gt;</th><th scope=col>&lt;chr&gt;</th><th scope=col>&lt;chr&gt;</th><th scope=col>&lt;chr&gt;</th><th scope=col>&lt;chr&gt;</th><th scope=col>⋯</th><th scope=col>&lt;int&gt;</th><th scope=col>&lt;int&gt;</th><th scope=col>&lt;int&gt;</th><th scope=col>&lt;int&gt;</th><th scope=col>&lt;int&gt;</th><th scope=col>&lt;dbl&gt;</th><th scope=col>&lt;chr&gt;</th><th scope=col>&lt;chr&gt;</th><th scope=col>&lt;chr&gt;</th><th scope=col>&lt;chr&gt;</th></tr>\n",
              "</thead>\n",
              "<tbody>\n",
              "\t<tr><th scope=row>1</th><td>1900</td><td>9002</td><td></td><td>Natural</td><td>Climatological</td><td>Drought            </td><td>Drought        </td><td></td><td>           </td><td>Cabo Verde</td><td>⋯</td><td>NA</td><td>NA</td><td>NA</td><td>NA</td><td>   NA</td><td>3.221647</td><td></td><td></td><td></td><td></td></tr>\n",
              "\t<tr><th scope=row>2</th><td>1900</td><td>9001</td><td></td><td>Natural</td><td>Climatological</td><td>Drought            </td><td>Drought        </td><td></td><td>           </td><td>India     </td><td>⋯</td><td>NA</td><td>NA</td><td>NA</td><td>NA</td><td>   NA</td><td>3.221647</td><td></td><td></td><td></td><td></td></tr>\n",
              "\t<tr><th scope=row>3</th><td>1902</td><td>  12</td><td></td><td>Natural</td><td>Geophysical   </td><td>Earthquake         </td><td>Ground movement</td><td></td><td>           </td><td>Guatemala </td><td>⋯</td><td>NA</td><td>NA</td><td>NA</td><td>NA</td><td>25000</td><td>3.350513</td><td></td><td></td><td></td><td></td></tr>\n",
              "\t<tr><th scope=row>4</th><td>1902</td><td>   3</td><td></td><td>Natural</td><td>Geophysical   </td><td>Volcanic activity  </td><td>Ash fall       </td><td></td><td>Santa Maria</td><td>Guatemala </td><td>⋯</td><td>NA</td><td>NA</td><td>NA</td><td>NA</td><td>   NA</td><td>3.350513</td><td></td><td></td><td></td><td></td></tr>\n",
              "\t<tr><th scope=row>5</th><td>1902</td><td>  10</td><td></td><td>Natural</td><td>Geophysical   </td><td>Volcanic activity  </td><td>Ash fall       </td><td></td><td>Santa Maria</td><td>Guatemala </td><td>⋯</td><td>NA</td><td>NA</td><td>NA</td><td>NA</td><td>   NA</td><td>3.350513</td><td></td><td></td><td></td><td></td></tr>\n",
              "\t<tr><th scope=row>6</th><td>1903</td><td>   6</td><td></td><td>Natural</td><td>Geophysical   </td><td>Mass movement (dry)</td><td>Rockfall       </td><td></td><td>           </td><td>Canada    </td><td>⋯</td><td>NA</td><td>NA</td><td>23</td><td>NA</td><td>   NA</td><td>3.479379</td><td></td><td></td><td></td><td></td></tr>\n",
              "</tbody>\n",
              "</table>\n"
            ]
          },
          "metadata": {}
        }
      ]
    },
    {
      "cell_type": "code",
      "source": [
        "str(projectdata)"
      ],
      "metadata": {
        "colab": {
          "base_uri": "https://localhost:8080/"
        },
        "id": "hJKsIFaQ4Qiz",
        "outputId": "ad4b4068-83d7-453f-afcf-82bc2937d141"
      },
      "execution_count": 8,
      "outputs": [
        {
          "output_type": "stream",
          "name": "stdout",
          "text": [
            "'data.frame':\t16126 obs. of  45 variables:\n",
            " $ Year                      : int  1900 1900 1902 1902 1902 1903 1903 1904 1905 1905 ...\n",
            " $ Seq                       : int  9002 9001 12 3 10 6 12 3 5 3 ...\n",
            " $ Glide                     : chr  \"\" \"\" \"\" \"\" ...\n",
            " $ Disaster.Group            : chr  \"Natural\" \"Natural\" \"Natural\" \"Natural\" ...\n",
            " $ Disaster.Subgroup         : chr  \"Climatological\" \"Climatological\" \"Geophysical\" \"Geophysical\" ...\n",
            " $ Disaster.Type             : chr  \"Drought\" \"Drought\" \"Earthquake\" \"Volcanic activity\" ...\n",
            " $ Disaster.Subtype          : chr  \"Drought\" \"Drought\" \"Ground movement\" \"Ash fall\" ...\n",
            " $ Disaster.Subsubtype       : chr  \"\" \"\" \"\" \"\" ...\n",
            " $ Event.Name                : chr  \"\" \"\" \"\" \"Santa Maria\" ...\n",
            " $ Country                   : chr  \"Cabo Verde\" \"India\" \"Guatemala\" \"Guatemala\" ...\n",
            " $ ISO                       : chr  \"CPV\" \"IND\" \"GTM\" \"GTM\" ...\n",
            " $ Region                    : chr  \"Western Africa\" \"Southern Asia\" \"Central America\" \"Central America\" ...\n",
            " $ Continent                 : chr  \"Africa\" \"Asia\" \"Americas\" \"Americas\" ...\n",
            " $ Location                  : chr  \"Countrywide\" \"Bengal\" \"Quezaltenango, San Marcos\" \"\" ...\n",
            " $ Origin                    : chr  \"\" \"\" \"\" \"\" ...\n",
            " $ Associated.Dis            : chr  \"Famine\" \"\" \"Tsunami/Tidal wave\" \"\" ...\n",
            " $ Associated.Dis2           : chr  \"\" \"\" \"\" \"\" ...\n",
            " $ OFDA.Response             : chr  \"\" \"\" \"\" \"\" ...\n",
            " $ Appeal                    : chr  \"No\" \"No\" \"\" \"\" ...\n",
            " $ Declaration               : chr  \"No\" \"No\" \"\" \"\" ...\n",
            " $ Aid.Contribution          : int  NA NA NA NA NA NA NA NA NA NA ...\n",
            " $ Dis.Mag.Value             : int  NA NA 8 NA NA NA NA NA NA 8 ...\n",
            " $ Dis.Mag.Scale             : chr  \"Km2\" \"Km2\" \"Richter\" \"\" ...\n",
            " $ Latitude                  : chr  \"\" \"\" \"14\" \"\" ...\n",
            " $ Longitude                 : chr  \"\" \"\" \"-91\" \"\" ...\n",
            " $ Local.Time                : chr  \"\" \"\" \"20:20\" \"\" ...\n",
            " $ River.Basin               : chr  \"\" \"\" \"\" \"\" ...\n",
            " $ Start.Year                : int  1900 1900 1902 1902 1902 1903 1903 1904 1905 1905 ...\n",
            " $ Start.Month               : int  NA NA 4 4 10 4 NA 11 8 4 ...\n",
            " $ Start.Day                 : int  NA NA 18 8 24 29 NA NA 13 4 ...\n",
            " $ End.Year                  : int  1900 1900 1902 1902 1902 1903 1903 1904 1905 1905 ...\n",
            " $ End.Month                 : int  NA NA 4 4 10 4 NA 11 8 4 ...\n",
            " $ End.Day                   : int  NA NA 18 8 24 29 NA NA 13 4 ...\n",
            " $ Total.Deaths              : int  11000 1250000 2000 1000 6000 76 17 NA 18 20000 ...\n",
            " $ No.Injured                : int  NA NA NA NA NA 23 NA NA 18 NA ...\n",
            " $ No.Affected               : int  NA NA NA NA NA NA NA NA NA NA ...\n",
            " $ No.Homeless               : int  NA NA NA NA NA NA NA NA NA NA ...\n",
            " $ Total.Affected            : int  NA NA NA NA NA 23 NA NA 18 NA ...\n",
            " $ Insured.Damages...000.US..: int  NA NA NA NA NA NA NA NA NA NA ...\n",
            " $ Total.Damages...000.US..  : int  NA NA 25000 NA NA NA NA NA NA 25000 ...\n",
            " $ CPI                       : num  3.22 3.22 3.35 3.35 3.35 ...\n",
            " $ Adm.Level                 : chr  \"\" \"\" \"\" \"\" ...\n",
            " $ Admin1.Code               : chr  \"\" \"\" \"\" \"\" ...\n",
            " $ Admin2.Code               : chr  \"\" \"\" \"\" \"\" ...\n",
            " $ Geo.Locations             : chr  \"\" \"\" \"\" \"\" ...\n"
          ]
        }
      ]
    },
    {
      "cell_type": "code",
      "source": [
        "data1 <- na.omit(projectdata)\n",
        "str(data1)"
      ],
      "metadata": {
        "colab": {
          "base_uri": "https://localhost:8080/"
        },
        "id": "GPUMMUU04W7J",
        "outputId": "5de39a7c-5f5e-48b0-9be0-9980c9a8e060"
      },
      "execution_count": 20,
      "outputs": [
        {
          "output_type": "stream",
          "name": "stdout",
          "text": [
            "'data.frame':\t14 obs. of  45 variables:\n",
            " $ Year                      : int  1992 1997 1998 1995 1997 1997 1999 1999 2001 1999 ...\n",
            " $ Seq                       : int  22 179 165 16 142 267 16 391 33 268 ...\n",
            " $ Glide                     : chr  \"\" \"\" \"\" \"\" ...\n",
            " $ Disaster.Group            : chr  \"Natural\" \"Natural\" \"Natural\" \"Natural\" ...\n",
            " $ Disaster.Subgroup         : chr  \"Geophysical\" \"Meteorological\" \"Hydrological\" \"Geophysical\" ...\n",
            " $ Disaster.Type             : chr  \"Earthquake\" \"Storm\" \"Flood\" \"Earthquake\" ...\n",
            " $ Disaster.Subtype          : chr  \"Ground movement\" \"Tropical cyclone\" \"Riverine flood\" \"Ground movement\" ...\n",
            " $ Disaster.Subsubtype       : chr  \"\" \"\" \"\" \"\" ...\n",
            " $ Event.Name                : chr  \"\" \"Winnie\" \"\" \"\" ...\n",
            " $ Country                   : chr  \"Turkey\" \"China\" \"China\" \"Japan\" ...\n",
            " $ ISO                       : chr  \"TUR\" \"CHN\" \"CHN\" \"JPN\" ...\n",
            " $ Region                    : chr  \"Western Asia\" \"Eastern Asia\" \"Eastern Asia\" \"Eastern Asia\" ...\n",
            " $ Continent                 : chr  \"Asia\" \"Asia\" \"Asia\" \"Asia\" ...\n",
            " $ Location                  : chr  \"Erzican province\" \"Zhejiang, Anhui provinces\" \"Hubei, Hunan, Sichuan, Jiangxi, Fujian, Guanxi Provinces\" \"Kobe, Osaka, Hyigo, Kyoto prefecture\" ...\n",
            " $ Origin                    : chr  \"\" \"\" \"Heavy rains\" \"\" ...\n",
            " $ Associated.Dis            : chr  \"Slide (land, mud, snow, rock)\" \"Flood\" \"Broken Dam/Burst bank\" \"Fire\" ...\n",
            " $ Associated.Dis2           : chr  \"\" \"\" \"\" \"\" ...\n",
            " $ OFDA.Response             : chr  \"Yes\" \"\" \"Yes\" \"\" ...\n",
            " $ Appeal                    : chr  \"No\" \"No\" \"No\" \"No\" ...\n",
            " $ Declaration               : chr  \"No\" \"No\" \"No\" \"No\" ...\n",
            " $ Aid.Contribution          : int  11213 253 131738 13557 5046 10473 32129 1583 118929 116413 ...\n",
            " $ Dis.Mag.Value             : int  7 180 250000 7 34990 102 6 200 8 8 ...\n",
            " $ Dis.Mag.Scale             : chr  \"Richter\" \"Kph\" \"Km2\" \"Richter\" ...\n",
            " $ Latitude                  : chr  \"39.710 N\" \"\" \"\" \"34.58 N\" ...\n",
            " $ Longitude                 : chr  \"39.605 E\" \"\" \"\" \"135.0 E \" ...\n",
            " $ Local.Time                : chr  \"20:19\" \"\" \"\" \"05:46\" ...\n",
            " $ River.Basin               : chr  \"\" \"\" \"Yang-Tsé Kiang\" \"\" ...\n",
            " $ Start.Year                : int  1992 1997 1998 1995 1997 1997 1999 1999 2001 1999 ...\n",
            " $ Start.Month               : int  3 8 7 1 7 11 1 9 1 8 ...\n",
            " $ Start.Day                 : int  13 15 1 17 2 2 25 12 26 17 ...\n",
            " $ End.Year                  : int  1992 1997 1998 1995 1997 1997 1999 1999 2001 1999 ...\n",
            " $ End.Month                 : int  3 8 8 1 7 11 1 10 1 8 ...\n",
            " $ End.Day                   : int  13 21 30 17 24 4 25 29 26 17 ...\n",
            " $ Total.Deaths              : int  653 140 3656 5297 29 3682 1186 636 20005 17127 ...\n",
            " $ No.Injured                : int  3850 3000 123000 34492 2409 857 8563 60 166812 43953 ...\n",
            " $ No.Affected               : int  250000 790000 223000000 255843 87725 697225 745000 530000 4365000 715000 ...\n",
            " $ No.Homeless               : int  95000 44000 15850000 251301 11973 383045 452370 86000 1790000 600000 ...\n",
            " $ Total.Affected            : int  348850 837000 238973000 541636 102107 1081127 1205933 616060 6321812 1358953 ...\n",
            " $ Insured.Damages...000.US..: int  10800 15000 301200 3000000 310000 5000 100000 55000 100000 2000000 ...\n",
            " $ Total.Damages...000.US..  : int  750000 2700000 30000000 100000000 1850000 470000 1857366 451300 2623000 20000000 ...\n",
            " $ CPI                       : num  54.2 62 63 58.9 62 ...\n",
            " $ Adm.Level                 : chr  \"\" \"\" \"\" \"\" ...\n",
            " $ Admin1.Code               : chr  \"\" \"\" \"\" \"\" ...\n",
            " $ Admin2.Code               : chr  \"\" \"\" \"\" \"\" ...\n",
            " $ Geo.Locations             : chr  \"\" \"\" \"\" \"\" ...\n",
            " - attr(*, \"na.action\")= 'omit' Named int [1:16112] 1 2 3 4 5 6 7 8 9 10 ...\n",
            "  ..- attr(*, \"names\")= chr [1:16112] \"1\" \"2\" \"3\" \"4\" ...\n"
          ]
        }
      ]
    },
    {
      "cell_type": "code",
      "source": [
        "summary(data1)"
      ],
      "metadata": {
        "colab": {
          "base_uri": "https://localhost:8080/",
          "height": 1000
        },
        "id": "lIvBXVItxmkD",
        "outputId": "0dfd6131-30fd-48c8-e4c8-683c913e81d7"
      },
      "execution_count": 21,
      "outputs": [
        {
          "output_type": "display_data",
          "data": {
            "text/plain": [
              "      Year           Seq            Glide           Disaster.Group    \n",
              " Min.   :1992   Min.   : 16.00   Length:14          Length:14         \n",
              " 1st Qu.:1997   1st Qu.: 60.25   Class :character   Class :character  \n",
              " Median :1999   Median :188.00   Mode  :character   Mode  :character  \n",
              " Mean   :1999   Mean   :201.14                                        \n",
              " 3rd Qu.:2000   3rd Qu.:276.25                                        \n",
              " Max.   :2006   Max.   :547.00                                        \n",
              " Disaster.Subgroup  Disaster.Type      Disaster.Subtype   Disaster.Subsubtype\n",
              " Length:14          Length:14          Length:14          Length:14          \n",
              " Class :character   Class :character   Class :character   Class :character   \n",
              " Mode  :character   Mode  :character   Mode  :character   Mode  :character   \n",
              "                                                                             \n",
              "                                                                             \n",
              "                                                                             \n",
              "  Event.Name          Country              ISO               Region         \n",
              " Length:14          Length:14          Length:14          Length:14         \n",
              " Class :character   Class :character   Class :character   Class :character  \n",
              " Mode  :character   Mode  :character   Mode  :character   Mode  :character  \n",
              "                                                                            \n",
              "                                                                            \n",
              "                                                                            \n",
              "  Continent           Location            Origin          Associated.Dis    \n",
              " Length:14          Length:14          Length:14          Length:14         \n",
              " Class :character   Class :character   Class :character   Class :character  \n",
              " Mode  :character   Mode  :character   Mode  :character   Mode  :character  \n",
              "                                                                            \n",
              "                                                                            \n",
              "                                                                            \n",
              " Associated.Dis2    OFDA.Response         Appeal          Declaration       \n",
              " Length:14          Length:14          Length:14          Length:14         \n",
              " Class :character   Class :character   Class :character   Class :character  \n",
              " Mode  :character   Mode  :character   Mode  :character   Mode  :character  \n",
              "                                                                            \n",
              "                                                                            \n",
              "                                                                            \n",
              " Aid.Contribution Dis.Mag.Value    Dis.Mag.Scale        Latitude        \n",
              " Min.   :   253   Min.   :     6   Length:14          Length:14         \n",
              " 1st Qu.:  6403   1st Qu.:     7   Class :character   Class :character  \n",
              " Median : 17167   Median :     8   Mode  :character   Mode  :character  \n",
              " Mean   : 41728   Mean   : 20420                                        \n",
              " 3rd Qu.: 74441   3rd Qu.:   195                                        \n",
              " Max.   :131738   Max.   :250000                                        \n",
              "  Longitude          Local.Time        River.Basin          Start.Year  \n",
              " Length:14          Length:14          Length:14          Min.   :1992  \n",
              " Class :character   Class :character   Class :character   1st Qu.:1997  \n",
              " Mode  :character   Mode  :character   Mode  :character   Median :1999  \n",
              "                                                          Mean   :1999  \n",
              "                                                          3rd Qu.:2000  \n",
              "                                                          Max.   :2006  \n",
              "  Start.Month     Start.Day        End.Year      End.Month         End.Day     \n",
              " Min.   : 1.0   Min.   : 1.00   Min.   :1992   Min.   : 1.000   Min.   : 1.00  \n",
              " 1st Qu.: 3.5   1st Qu.: 4.50   1st Qu.:1997   1st Qu.: 3.500   1st Qu.:17.00  \n",
              " Median : 6.5   Median :15.00   Median :1999   Median : 6.500   Median :22.00  \n",
              " Mean   : 6.0   Mean   :13.93   Mean   :1999   Mean   : 6.143   Mean   :19.71  \n",
              " 3rd Qu.: 8.0   3rd Qu.:21.50   3rd Qu.:2000   3rd Qu.: 8.000   3rd Qu.:25.75  \n",
              " Max.   :12.0   Max.   :26.00   Max.   :2006   Max.   :12.000   Max.   :30.00  \n",
              "  Total.Deaths       No.Injured      No.Affected         No.Homeless      \n",
              " Min.   :   29.0   Min.   :    60   Min.   :    87725   Min.   :   11973  \n",
              " 1st Qu.:  291.8   1st Qu.:  2482   1st Qu.:   251461   1st Qu.:   88250  \n",
              " Median : 2421.0   Median :  3425   Median :   613612   Median :  188083  \n",
              " Mean   : 6322.2   Mean   : 37915   Mean   : 16757892   Mean   : 1467660  \n",
              " 3rd Qu.: 5657.8   3rd Qu.: 41588   3rd Qu.:   778750   3rd Qu.:  563092  \n",
              " Max.   :30000.0   Max.   :166812   Max.   :223000000   Max.   :15850000  \n",
              " Total.Affected      Insured.Damages...000.US.. Total.Damages...000.US..\n",
              " Min.   :   102107   Min.   :   1000            Min.   :   135000       \n",
              " 1st Qu.:   383392   1st Qu.:  21250            1st Qu.:   540000       \n",
              " Median :   726530   Median :  77500            Median :  2240183       \n",
              " Mean   : 18263467   Mean   : 456286            Mean   : 11956905       \n",
              " 3rd Qu.:  1320698   3rd Qu.: 307800            3rd Qu.:  3145000       \n",
              " Max.   :238973000   Max.   :3000000            Max.   :100000000       \n",
              "      CPI         Adm.Level         Admin1.Code        Admin2.Code       \n",
              " Min.   :54.22   Length:14          Length:14          Length:14         \n",
              " 1st Qu.:62.02   Class :character   Class :character   Class :character  \n",
              " Median :64.36   Mode  :character   Mode  :character   Mode  :character  \n",
              " Mean   :64.67                                                           \n",
              " 3rd Qu.:67.40                                                           \n",
              " Max.   :77.89                                                           \n",
              " Geo.Locations     \n",
              " Length:14         \n",
              " Class :character  \n",
              " Mode  :character  \n",
              "                   \n",
              "                   \n",
              "                   "
            ]
          },
          "metadata": {}
        }
      ]
    },
    {
      "cell_type": "code",
      "source": [
        ""
      ],
      "metadata": {
        "id": "K9bot9EH1OMA"
      },
      "execution_count": null,
      "outputs": []
    }
  ]
}